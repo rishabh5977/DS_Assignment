{
 "cells": [
  {
   "cell_type": "code",
   "execution_count": 1,
   "metadata": {},
   "outputs": [],
   "source": [
    "#import libraries\n",
    "import pandas as pd\n",
    "import numpy as np\n",
    "import matplotlib.pyplot as plt\n",
    "import seaborn as sns\n",
    "import math\n",
    "from sklearn import preprocessing"
   ]
  },
  {
   "cell_type": "code",
   "execution_count": 2,
   "metadata": {},
   "outputs": [],
   "source": [
    "%matplotlib inline"
   ]
  },
  {
   "cell_type": "code",
   "execution_count": 3,
   "metadata": {},
   "outputs": [],
   "source": [
    "#Importing train and test dataset\n",
    "train_df = pd.read_excel(\"DS_ML Coding Challenge Dataset.xlsx\",sheet_name='Training Dataset') #train dataset\n",
    "test_df = pd.read_excel(\"DS_ML Coding Challenge Dataset.xlsx\",sheet_name='Test Dataset') #test dataset"
   ]
  },
  {
   "cell_type": "code",
   "execution_count": 4,
   "metadata": {},
   "outputs": [
    {
     "data": {
      "text/html": [
       "<div>\n",
       "<style scoped>\n",
       "    .dataframe tbody tr th:only-of-type {\n",
       "        vertical-align: middle;\n",
       "    }\n",
       "\n",
       "    .dataframe tbody tr th {\n",
       "        vertical-align: top;\n",
       "    }\n",
       "\n",
       "    .dataframe thead th {\n",
       "        text-align: right;\n",
       "    }\n",
       "</style>\n",
       "<table border=\"1\" class=\"dataframe\">\n",
       "  <thead>\n",
       "    <tr style=\"text-align: right;\">\n",
       "      <th></th>\n",
       "      <th>ProductType</th>\n",
       "      <th>Manufacturer</th>\n",
       "      <th>Area Code</th>\n",
       "      <th>Sourcing Channel</th>\n",
       "      <th>Product Size</th>\n",
       "      <th>Product Type</th>\n",
       "      <th>Month of Sourcing</th>\n",
       "      <th>Sourcing Cost</th>\n",
       "    </tr>\n",
       "  </thead>\n",
       "  <tbody>\n",
       "    <tr>\n",
       "      <th>502497</th>\n",
       "      <td>NTM2</td>\n",
       "      <td>X2</td>\n",
       "      <td>A31</td>\n",
       "      <td>DIRECT</td>\n",
       "      <td>Large</td>\n",
       "      <td>Powder</td>\n",
       "      <td>2020-11-01</td>\n",
       "      <td>6.421</td>\n",
       "    </tr>\n",
       "    <tr>\n",
       "      <th>46403</th>\n",
       "      <td>NTM3</td>\n",
       "      <td>X1</td>\n",
       "      <td>A18</td>\n",
       "      <td>RETAIL</td>\n",
       "      <td>Large</td>\n",
       "      <td>Liquid</td>\n",
       "      <td>2020-12-01</td>\n",
       "      <td>159.435</td>\n",
       "    </tr>\n",
       "    <tr>\n",
       "      <th>441708</th>\n",
       "      <td>NTM2</td>\n",
       "      <td>X1</td>\n",
       "      <td>A10</td>\n",
       "      <td>ECOM</td>\n",
       "      <td>Large</td>\n",
       "      <td>Powder</td>\n",
       "      <td>2021-02-01</td>\n",
       "      <td>150.599</td>\n",
       "    </tr>\n",
       "    <tr>\n",
       "      <th>12786</th>\n",
       "      <td>NTM1</td>\n",
       "      <td>X1</td>\n",
       "      <td>A7</td>\n",
       "      <td>DIRECT</td>\n",
       "      <td>Large</td>\n",
       "      <td>Liquid</td>\n",
       "      <td>2020-12-01</td>\n",
       "      <td>192.373</td>\n",
       "    </tr>\n",
       "    <tr>\n",
       "      <th>483511</th>\n",
       "      <td>NTM1</td>\n",
       "      <td>X2</td>\n",
       "      <td>A43</td>\n",
       "      <td>DIRECT</td>\n",
       "      <td>Small</td>\n",
       "      <td>Powder</td>\n",
       "      <td>2020-11-01</td>\n",
       "      <td>168.814</td>\n",
       "    </tr>\n",
       "    <tr>\n",
       "      <th>131277</th>\n",
       "      <td>NTM3</td>\n",
       "      <td>X1</td>\n",
       "      <td>A35</td>\n",
       "      <td>DIRECT</td>\n",
       "      <td>Small</td>\n",
       "      <td>Liquid</td>\n",
       "      <td>2020-12-01</td>\n",
       "      <td>42.800</td>\n",
       "    </tr>\n",
       "    <tr>\n",
       "      <th>243690</th>\n",
       "      <td>NTM1</td>\n",
       "      <td>X1</td>\n",
       "      <td>A3</td>\n",
       "      <td>DIRECT</td>\n",
       "      <td>Small</td>\n",
       "      <td>Powder</td>\n",
       "      <td>2020-11-01</td>\n",
       "      <td>142.626</td>\n",
       "    </tr>\n",
       "    <tr>\n",
       "      <th>318514</th>\n",
       "      <td>NTM2</td>\n",
       "      <td>X2</td>\n",
       "      <td>A31</td>\n",
       "      <td>DIRECT</td>\n",
       "      <td>Large</td>\n",
       "      <td>Powder</td>\n",
       "      <td>2020-08-01</td>\n",
       "      <td>108.302</td>\n",
       "    </tr>\n",
       "    <tr>\n",
       "      <th>27557</th>\n",
       "      <td>NTM2</td>\n",
       "      <td>X1</td>\n",
       "      <td>A9</td>\n",
       "      <td>DIRECT</td>\n",
       "      <td>Large</td>\n",
       "      <td>Powder</td>\n",
       "      <td>2021-04-01</td>\n",
       "      <td>146.333</td>\n",
       "    </tr>\n",
       "    <tr>\n",
       "      <th>87671</th>\n",
       "      <td>NTM2</td>\n",
       "      <td>X1</td>\n",
       "      <td>A7</td>\n",
       "      <td>ECOM</td>\n",
       "      <td>Small</td>\n",
       "      <td>Powder</td>\n",
       "      <td>2020-11-01</td>\n",
       "      <td>157.512</td>\n",
       "    </tr>\n",
       "  </tbody>\n",
       "</table>\n",
       "</div>"
      ],
      "text/plain": [
       "       ProductType Manufacturer Area Code Sourcing Channel Product Size  \\\n",
       "502497        NTM2           X2       A31           DIRECT        Large   \n",
       "46403         NTM3           X1       A18           RETAIL        Large   \n",
       "441708        NTM2           X1       A10             ECOM        Large   \n",
       "12786         NTM1           X1        A7           DIRECT        Large   \n",
       "483511        NTM1           X2       A43           DIRECT        Small   \n",
       "131277        NTM3           X1       A35           DIRECT        Small   \n",
       "243690        NTM1           X1        A3           DIRECT        Small   \n",
       "318514        NTM2           X2       A31           DIRECT        Large   \n",
       "27557         NTM2           X1        A9           DIRECT        Large   \n",
       "87671         NTM2           X1        A7             ECOM        Small   \n",
       "\n",
       "       Product Type Month of Sourcing  Sourcing Cost  \n",
       "502497       Powder        2020-11-01          6.421  \n",
       "46403        Liquid        2020-12-01        159.435  \n",
       "441708       Powder        2021-02-01        150.599  \n",
       "12786        Liquid        2020-12-01        192.373  \n",
       "483511       Powder        2020-11-01        168.814  \n",
       "131277       Liquid        2020-12-01         42.800  \n",
       "243690       Powder        2020-11-01        142.626  \n",
       "318514       Powder        2020-08-01        108.302  \n",
       "27557        Powder        2021-04-01        146.333  \n",
       "87671        Powder        2020-11-01        157.512  "
      ]
     },
     "execution_count": 4,
     "metadata": {},
     "output_type": "execute_result"
    }
   ],
   "source": [
    "train_df.sample(10) #visualize random 10 sample from train dataset"
   ]
  },
  {
   "cell_type": "code",
   "execution_count": 5,
   "metadata": {},
   "outputs": [
    {
     "data": {
      "text/plain": [
       "(550176, 8)"
      ]
     },
     "execution_count": 5,
     "metadata": {},
     "output_type": "execute_result"
    }
   ],
   "source": [
    "train_df.shape #check train dataset shape : (rows,columns)"
   ]
  },
  {
   "cell_type": "code",
   "execution_count": 6,
   "metadata": {},
   "outputs": [
    {
     "name": "stdout",
     "output_type": "stream",
     "text": [
      "<class 'pandas.core.frame.DataFrame'>\n",
      "RangeIndex: 550176 entries, 0 to 550175\n",
      "Data columns (total 8 columns):\n",
      " #   Column             Non-Null Count   Dtype         \n",
      "---  ------             --------------   -----         \n",
      " 0   ProductType        550176 non-null  object        \n",
      " 1   Manufacturer       550176 non-null  object        \n",
      " 2   Area Code          550176 non-null  object        \n",
      " 3   Sourcing Channel   550176 non-null  object        \n",
      " 4   Product Size       550176 non-null  object        \n",
      " 5   Product Type       550176 non-null  object        \n",
      " 6   Month of Sourcing  550176 non-null  datetime64[ns]\n",
      " 7   Sourcing Cost      550176 non-null  float64       \n",
      "dtypes: datetime64[ns](1), float64(1), object(6)\n",
      "memory usage: 33.6+ MB\n"
     ]
    }
   ],
   "source": [
    "train_df.info()"
   ]
  },
  {
   "cell_type": "code",
   "execution_count": 7,
   "metadata": {},
   "outputs": [
    {
     "data": {
      "text/plain": [
       "array(['NTM3', 'NTM2', 'NTM1'], dtype=object)"
      ]
     },
     "execution_count": 7,
     "metadata": {},
     "output_type": "execute_result"
    }
   ],
   "source": [
    "train_df['ProductType'].unique()"
   ]
  },
  {
   "cell_type": "code",
   "execution_count": 8,
   "metadata": {},
   "outputs": [
    {
     "data": {
      "text/plain": [
       "array(['X1', 'X2', 'X3'], dtype=object)"
      ]
     },
     "execution_count": 8,
     "metadata": {},
     "output_type": "execute_result"
    }
   ],
   "source": [
    "train_df['Manufacturer'].unique()"
   ]
  },
  {
   "cell_type": "code",
   "execution_count": 9,
   "metadata": {},
   "outputs": [
    {
     "data": {
      "text/plain": [
       "array(['A28', 'A9', 'A20', 'A18', 'A10', 'A19', 'A29', 'A7', 'A2', 'A8',\n",
       "       'A4', 'A6', 'A30', 'A35', 'A44', 'A45', 'A31', 'A25', 'A37', 'A32',\n",
       "       'A34', 'A46', 'A11', 'A39', 'A41', 'A17', 'A38', 'A5', 'A22', 'A3',\n",
       "       'A12', 'A24', 'A36', 'A42', 'A14', 'A43', 'A33', 'A15', 'A40',\n",
       "       'A21', 'A16', 'A13', 'A1', 'A23', 'A26'], dtype=object)"
      ]
     },
     "execution_count": 9,
     "metadata": {},
     "output_type": "execute_result"
    }
   ],
   "source": [
    "train_df['Area Code'].unique()"
   ]
  },
  {
   "cell_type": "code",
   "execution_count": 10,
   "metadata": {},
   "outputs": [
    {
     "data": {
      "text/plain": [
       "array(['WHOLESALE', 'DIRECT', 'RETAIL', 'ECOM'], dtype=object)"
      ]
     },
     "execution_count": 10,
     "metadata": {},
     "output_type": "execute_result"
    }
   ],
   "source": [
    "train_df['Sourcing Channel'].unique()"
   ]
  },
  {
   "cell_type": "code",
   "execution_count": 11,
   "metadata": {},
   "outputs": [
    {
     "data": {
      "text/plain": [
       "array(['Large', 'Small', 'ExtraLarge'], dtype=object)"
      ]
     },
     "execution_count": 11,
     "metadata": {},
     "output_type": "execute_result"
    }
   ],
   "source": [
    "train_df['Product Size'].unique()"
   ]
  },
  {
   "cell_type": "code",
   "execution_count": 12,
   "metadata": {},
   "outputs": [
    {
     "data": {
      "text/plain": [
       "array(['Powder', 'Liquid'], dtype=object)"
      ]
     },
     "execution_count": 12,
     "metadata": {},
     "output_type": "execute_result"
    }
   ],
   "source": [
    "train_df['Product Type'].unique()"
   ]
  },
  {
   "cell_type": "code",
   "execution_count": 13,
   "metadata": {},
   "outputs": [
    {
     "data": {
      "text/plain": [
       "array(['2021-05-01T00:00:00.000000000', '2020-10-01T00:00:00.000000000',\n",
       "       '2020-12-01T00:00:00.000000000', '2021-02-01T00:00:00.000000000',\n",
       "       '2020-11-01T00:00:00.000000000', '2020-09-01T00:00:00.000000000',\n",
       "       '2021-03-01T00:00:00.000000000', '2021-01-01T00:00:00.000000000',\n",
       "       '2021-04-01T00:00:00.000000000', '2020-07-01T00:00:00.000000000',\n",
       "       '2020-08-01T00:00:00.000000000'], dtype='datetime64[ns]')"
      ]
     },
     "execution_count": 13,
     "metadata": {},
     "output_type": "execute_result"
    }
   ],
   "source": [
    "train_df['Month of Sourcing'].unique()"
   ]
  },
  {
   "cell_type": "code",
   "execution_count": 14,
   "metadata": {},
   "outputs": [
    {
     "data": {
      "text/plain": [
       "array(['ProductType', 'Manufacturer', 'Area Code', 'Sourcing Channel',\n",
       "       'Product Size', 'Product Type', 'Month of Sourcing'], dtype=object)"
      ]
     },
     "execution_count": 14,
     "metadata": {},
     "output_type": "execute_result"
    }
   ],
   "source": [
    "feature_columns = np.array(train_df.columns[:-1])\n",
    "feature_columns"
   ]
  },
  {
   "cell_type": "code",
   "execution_count": 15,
   "metadata": {},
   "outputs": [
    {
     "data": {
      "text/plain": [
       "ProductType          0\n",
       "Manufacturer         0\n",
       "Area Code            0\n",
       "Sourcing Channel     0\n",
       "Product Size         0\n",
       "Product Type         0\n",
       "Month of Sourcing    0\n",
       "Sourcing Cost        0\n",
       "dtype: int64"
      ]
     },
     "execution_count": 15,
     "metadata": {},
     "output_type": "execute_result"
    }
   ],
   "source": [
    "train_df.isna().sum() #check any null values in the training dataset"
   ]
  },
  {
   "cell_type": "markdown",
   "metadata": {},
   "source": [
    "# Exploratory Data Analysis"
   ]
  },
  {
   "cell_type": "code",
   "execution_count": 16,
   "metadata": {},
   "outputs": [
    {
     "data": {
      "text/plain": [
       "<AxesSubplot:xlabel='ProductType', ylabel='count'>"
      ]
     },
     "execution_count": 16,
     "metadata": {},
     "output_type": "execute_result"
    },
    {
     "data": {
      "image/png": "[encoded data removed]",
      "text/plain": [
       "<Figure size 432x288 with 1 Axes>"
      ]
     },
     "metadata": {
      "needs_background": "light"
     },
     "output_type": "display_data"
    }
   ],
   "source": [
    "sns.countplot(data=train_df,x=feature_columns[0],palette=\"ch:.25\")"
   ]
  },
  {
   "cell_type": "code",
   "execution_count": 17,
   "metadata": {},
   "outputs": [
    {
     "data": {
      "text/plain": [
       "<AxesSubplot:xlabel='Manufacturer', ylabel='count'>"
      ]
     },
     "execution_count": 17,
     "metadata": {},
     "output_type": "execute_result"
    },
    {
     "data": {
      "image/png": "[encoded data removed]",
      "text/plain": [
       "<Figure size 432x288 with 1 Axes>"
      ]
     },
     "metadata": {
      "needs_background": "light"
     },
     "output_type": "display_data"
    }
   ],
   "source": [
    "sns.countplot(data=train_df,x=feature_columns[1],palette=\"ch:.25\")"
   ]
  },
  {
   "cell_type": "code",
   "execution_count": 18,
   "metadata": {},
   "outputs": [
    {
     "data": {
      "image/png": "[encoded data removed]",
      "text/plain": [
       "<Figure size 1296x360 with 1 Axes>"
      ]
     },
     "metadata": {
      "needs_background": "light"
     },
     "output_type": "display_data"
    }
   ],
   "source": [
    "fig, ax = plt.subplots(figsize=(18, 5))\n",
    "sns.countplot(data=train_df,x=feature_columns[2],palette=\"ch:.25\")\n",
    "plt.show()"
   ]
  },
  {
   "cell_type": "code",
   "execution_count": 19,
   "metadata": {},
   "outputs": [
    {
     "data": {
      "text/plain": [
       "<AxesSubplot:xlabel='Sourcing Channel', ylabel='count'>"
      ]
     },
     "execution_count": 19,
     "metadata": {},
     "output_type": "execute_result"
    },
    {
     "data": {
      "image/png": "[encoded data removed]",
      "text/plain": [
       "<Figure size 432x288 with 1 Axes>"
      ]
     },
     "metadata": {
      "needs_background": "light"
     },
     "output_type": "display_data"
    }
   ],
   "source": [
    "sns.countplot(data=train_df,x=feature_columns[3],palette=\"ch:.25\")"
   ]
  },
  {
   "cell_type": "code",
   "execution_count": 20,
   "metadata": {},
   "outputs": [
    {
     "data": {
      "text/plain": [
       "<AxesSubplot:xlabel='Product Size', ylabel='count'>"
      ]
     },
     "execution_count": 20,
     "metadata": {},
     "output_type": "execute_result"
    },
    {
     "data": {
      "image/png": "[encoded data removed]",
      "text/plain": [
       "<Figure size 432x288 with 1 Axes>"
      ]
     },
     "metadata": {
      "needs_background": "light"
     },
     "output_type": "display_data"
    }
   ],
   "source": [
    "sns.countplot(data=train_df,x=feature_columns[4],palette=\"ch:.26\")"
   ]
  },
  {
   "cell_type": "code",
   "execution_count": 21,
   "metadata": {},
   "outputs": [
    {
     "data": {
      "text/plain": [
       "<AxesSubplot:xlabel='Product Type', ylabel='count'>"
      ]
     },
     "execution_count": 21,
     "metadata": {},
     "output_type": "execute_result"
    },
    {
     "data": {
      "image/png": "[encoded data removed]",
      "text/plain": [
       "<Figure size 432x288 with 1 Axes>"
      ]
     },
     "metadata": {
      "needs_background": "light"
     },
     "output_type": "display_data"
    }
   ],
   "source": [
    "sns.countplot(data=train_df,x=feature_columns[5],palette=\"ch:.25\")"
   ]
  },
  {
   "cell_type": "code",
   "execution_count": 22,
   "metadata": {},
   "outputs": [
    {
     "data": {
      "text/plain": [
       "<AxesSubplot:xlabel='Month of Sourcing', ylabel='count'>"
      ]
     },
     "execution_count": 22,
     "metadata": {},
     "output_type": "execute_result"
    },
    {
     "data": {
      "image/png": "[encoded data removed]",
      "text/plain": [
       "<Figure size 432x288 with 1 Axes>"
      ]
     },
     "metadata": {
      "needs_background": "light"
     },
     "output_type": "display_data"
    }
   ],
   "source": [
    "sns.countplot(data=train_df,x=feature_columns[6],palette=\"ch:.25\")"
   ]
  },
  {
   "cell_type": "code",
   "execution_count": 23,
   "metadata": {},
   "outputs": [],
   "source": [
    "train_df[\"Day\"] = train_df['Month of Sourcing'].map(lambda x: x.day)\n",
    "train_df[\"Month\"] = train_df['Month of Sourcing'].map(lambda x: x.month)\n",
    "train_df[\"Year\"] = train_df['Month of Sourcing'].map(lambda x: x.year)\n",
    "train_df.drop(columns=['Month of Sourcing'],inplace=True)"
   ]
  },
  {
   "cell_type": "code",
   "execution_count": 24,
   "metadata": {},
   "outputs": [
    {
     "data": {
      "text/html": [
       "<div>\n",
       "<style scoped>\n",
       "    .dataframe tbody tr th:only-of-type {\n",
       "        vertical-align: middle;\n",
       "    }\n",
       "\n",
       "    .dataframe tbody tr th {\n",
       "        vertical-align: top;\n",
       "    }\n",
       "\n",
       "    .dataframe thead th {\n",
       "        text-align: right;\n",
       "    }\n",
       "</style>\n",
       "<table border=\"1\" class=\"dataframe\">\n",
       "  <thead>\n",
       "    <tr style=\"text-align: right;\">\n",
       "      <th></th>\n",
       "      <th>ProductType</th>\n",
       "      <th>Manufacturer</th>\n",
       "      <th>Area Code</th>\n",
       "      <th>Sourcing Channel</th>\n",
       "      <th>Product Size</th>\n",
       "      <th>Product Type</th>\n",
       "      <th>Sourcing Cost</th>\n",
       "      <th>Day</th>\n",
       "      <th>Month</th>\n",
       "      <th>Year</th>\n",
       "    </tr>\n",
       "  </thead>\n",
       "  <tbody>\n",
       "    <tr>\n",
       "      <th>0</th>\n",
       "      <td>NTM3</td>\n",
       "      <td>X1</td>\n",
       "      <td>A28</td>\n",
       "      <td>WHOLESALE</td>\n",
       "      <td>Large</td>\n",
       "      <td>Powder</td>\n",
       "      <td>10.158</td>\n",
       "      <td>1</td>\n",
       "      <td>5</td>\n",
       "      <td>2021</td>\n",
       "    </tr>\n",
       "    <tr>\n",
       "      <th>1</th>\n",
       "      <td>NTM2</td>\n",
       "      <td>X1</td>\n",
       "      <td>A9</td>\n",
       "      <td>DIRECT</td>\n",
       "      <td>Large</td>\n",
       "      <td>Powder</td>\n",
       "      <td>134.281</td>\n",
       "      <td>1</td>\n",
       "      <td>10</td>\n",
       "      <td>2020</td>\n",
       "    </tr>\n",
       "    <tr>\n",
       "      <th>2</th>\n",
       "      <td>NTM3</td>\n",
       "      <td>X2</td>\n",
       "      <td>A20</td>\n",
       "      <td>DIRECT</td>\n",
       "      <td>Large</td>\n",
       "      <td>Powder</td>\n",
       "      <td>12.456</td>\n",
       "      <td>1</td>\n",
       "      <td>12</td>\n",
       "      <td>2020</td>\n",
       "    </tr>\n",
       "    <tr>\n",
       "      <th>3</th>\n",
       "      <td>NTM3</td>\n",
       "      <td>X1</td>\n",
       "      <td>A18</td>\n",
       "      <td>WHOLESALE</td>\n",
       "      <td>Small</td>\n",
       "      <td>Powder</td>\n",
       "      <td>107.220</td>\n",
       "      <td>1</td>\n",
       "      <td>2</td>\n",
       "      <td>2021</td>\n",
       "    </tr>\n",
       "    <tr>\n",
       "      <th>4</th>\n",
       "      <td>NTM2</td>\n",
       "      <td>X1</td>\n",
       "      <td>A28</td>\n",
       "      <td>DIRECT</td>\n",
       "      <td>Large</td>\n",
       "      <td>Liquid</td>\n",
       "      <td>197.763</td>\n",
       "      <td>1</td>\n",
       "      <td>11</td>\n",
       "      <td>2020</td>\n",
       "    </tr>\n",
       "  </tbody>\n",
       "</table>\n",
       "</div>"
      ],
      "text/plain": [
       "  ProductType Manufacturer Area Code Sourcing Channel Product Size  \\\n",
       "0        NTM3           X1       A28        WHOLESALE        Large   \n",
       "1        NTM2           X1        A9           DIRECT        Large   \n",
       "2        NTM3           X2       A20           DIRECT        Large   \n",
       "3        NTM3           X1       A18        WHOLESALE        Small   \n",
       "4        NTM2           X1       A28           DIRECT        Large   \n",
       "\n",
       "  Product Type  Sourcing Cost  Day  Month  Year  \n",
       "0       Powder         10.158    1      5  2021  \n",
       "1       Powder        134.281    1     10  2020  \n",
       "2       Powder         12.456    1     12  2020  \n",
       "3       Powder        107.220    1      2  2021  \n",
       "4       Liquid        197.763    1     11  2020  "
      ]
     },
     "execution_count": 24,
     "metadata": {},
     "output_type": "execute_result"
    }
   ],
   "source": [
    "train_df.head()"
   ]
  },
  {
   "cell_type": "code",
   "execution_count": 25,
   "metadata": {},
   "outputs": [
    {
     "data": {
      "text/html": [
       "<div>\n",
       "<style scoped>\n",
       "    .dataframe tbody tr th:only-of-type {\n",
       "        vertical-align: middle;\n",
       "    }\n",
       "\n",
       "    .dataframe tbody tr th {\n",
       "        vertical-align: top;\n",
       "    }\n",
       "\n",
       "    .dataframe thead th {\n",
       "        text-align: right;\n",
       "    }\n",
       "</style>\n",
       "<table border=\"1\" class=\"dataframe\">\n",
       "  <thead>\n",
       "    <tr style=\"text-align: right;\">\n",
       "      <th></th>\n",
       "      <th>ProductType</th>\n",
       "      <th>Manufacturer</th>\n",
       "      <th>Area Code</th>\n",
       "      <th>Sourcing Channel</th>\n",
       "      <th>Product Size</th>\n",
       "      <th>Product Type</th>\n",
       "      <th>Sourcing Cost</th>\n",
       "      <th>Day</th>\n",
       "      <th>Month</th>\n",
       "      <th>Year</th>\n",
       "    </tr>\n",
       "  </thead>\n",
       "  <tbody>\n",
       "    <tr>\n",
       "      <th>20673</th>\n",
       "      <td>NTM1</td>\n",
       "      <td>X1</td>\n",
       "      <td>A34</td>\n",
       "      <td>DIRECT</td>\n",
       "      <td>Small</td>\n",
       "      <td>Powder</td>\n",
       "      <td>93.967</td>\n",
       "      <td>1</td>\n",
       "      <td>4</td>\n",
       "      <td>2021</td>\n",
       "    </tr>\n",
       "    <tr>\n",
       "      <th>55244</th>\n",
       "      <td>NTM2</td>\n",
       "      <td>X1</td>\n",
       "      <td>A2</td>\n",
       "      <td>DIRECT</td>\n",
       "      <td>Large</td>\n",
       "      <td>Powder</td>\n",
       "      <td>173.443</td>\n",
       "      <td>1</td>\n",
       "      <td>1</td>\n",
       "      <td>2021</td>\n",
       "    </tr>\n",
       "    <tr>\n",
       "      <th>255247</th>\n",
       "      <td>NTM3</td>\n",
       "      <td>X1</td>\n",
       "      <td>A14</td>\n",
       "      <td>DIRECT</td>\n",
       "      <td>Large</td>\n",
       "      <td>Liquid</td>\n",
       "      <td>72.559</td>\n",
       "      <td>1</td>\n",
       "      <td>10</td>\n",
       "      <td>2020</td>\n",
       "    </tr>\n",
       "    <tr>\n",
       "      <th>2665</th>\n",
       "      <td>NTM2</td>\n",
       "      <td>X1</td>\n",
       "      <td>A19</td>\n",
       "      <td>DIRECT</td>\n",
       "      <td>Large</td>\n",
       "      <td>Powder</td>\n",
       "      <td>111.425</td>\n",
       "      <td>1</td>\n",
       "      <td>2</td>\n",
       "      <td>2021</td>\n",
       "    </tr>\n",
       "    <tr>\n",
       "      <th>144311</th>\n",
       "      <td>NTM1</td>\n",
       "      <td>X2</td>\n",
       "      <td>A43</td>\n",
       "      <td>DIRECT</td>\n",
       "      <td>Small</td>\n",
       "      <td>Powder</td>\n",
       "      <td>168.424</td>\n",
       "      <td>1</td>\n",
       "      <td>2</td>\n",
       "      <td>2021</td>\n",
       "    </tr>\n",
       "  </tbody>\n",
       "</table>\n",
       "</div>"
      ],
      "text/plain": [
       "       ProductType Manufacturer Area Code Sourcing Channel Product Size  \\\n",
       "20673         NTM1           X1       A34           DIRECT        Small   \n",
       "55244         NTM2           X1        A2           DIRECT        Large   \n",
       "255247        NTM3           X1       A14           DIRECT        Large   \n",
       "2665          NTM2           X1       A19           DIRECT        Large   \n",
       "144311        NTM1           X2       A43           DIRECT        Small   \n",
       "\n",
       "       Product Type  Sourcing Cost  Day  Month  Year  \n",
       "20673        Powder         93.967    1      4  2021  \n",
       "55244        Powder        173.443    1      1  2021  \n",
       "255247       Liquid         72.559    1     10  2020  \n",
       "2665         Powder        111.425    1      2  2021  \n",
       "144311       Powder        168.424    1      2  2021  "
      ]
     },
     "execution_count": 25,
     "metadata": {},
     "output_type": "execute_result"
    }
   ],
   "source": [
    "train_df.sample(5)"
   ]
  },
  {
   "cell_type": "code",
   "execution_count": 26,
   "metadata": {},
   "outputs": [
    {
     "data": {
      "text/plain": [
       "<AxesSubplot:xlabel='ProductType', ylabel='count'>"
      ]
     },
     "execution_count": 26,
     "metadata": {},
     "output_type": "execute_result"
    },
    {
     "data": {
      "image/png": "[encoded data removed]",
      "text/plain": [
       "<Figure size 432x288 with 1 Axes>"
      ]
     },
     "metadata": {
      "needs_background": "light"
     },
     "output_type": "display_data"
    }
   ],
   "source": [
    "#sourcing channels of the product types\n",
    "sns.countplot(data=train_df,x=feature_columns[0],hue='Sourcing Channel',palette=\"ch:.25\")"
   ]
  },
  {
   "cell_type": "code",
   "execution_count": 27,
   "metadata": {},
   "outputs": [
    {
     "data": {
      "text/plain": [
       "<AxesSubplot:xlabel='ProductType', ylabel='count'>"
      ]
     },
     "execution_count": 27,
     "metadata": {},
     "output_type": "execute_result"
    },
    {
     "data": {
      "image/png": "[encoded data removed]",
      "text/plain": [
       "<Figure size 432x288 with 1 Axes>"
      ]
     },
     "metadata": {
      "needs_background": "light"
     },
     "output_type": "display_data"
    }
   ],
   "source": [
    "# Product Type categories comes under with ProductType code\n",
    "sns.countplot(data=train_df,x=feature_columns[0],hue='Product Type',palette=\"ch:.25\")"
   ]
  },
  {
   "cell_type": "code",
   "execution_count": 28,
   "metadata": {},
   "outputs": [
    {
     "data": {
      "image/png": "[encoded data removed]",
      "text/plain": [
       "<Figure size 1296x360 with 1 Axes>"
      ]
     },
     "metadata": {
      "needs_background": "light"
     },
     "output_type": "display_data"
    }
   ],
   "source": [
    "fig, ax = plt.subplots(figsize=(18, 5))\n",
    "sns.countplot(data=train_df,x=feature_columns[1],hue='Area Code',edgecolor=sns.color_palette(\"dark\", 3),)\n",
    "plt.show()"
   ]
  },
  {
   "cell_type": "code",
   "execution_count": 29,
   "metadata": {},
   "outputs": [
    {
     "data": {
      "text/plain": [
       "<AxesSubplot:xlabel='Manufacturer', ylabel='count'>"
      ]
     },
     "execution_count": 29,
     "metadata": {},
     "output_type": "execute_result"
    },
    {
     "data": {
      "image/png": "[encoded data removed]",
      "text/plain": [
       "<Figure size 432x288 with 1 Axes>"
      ]
     },
     "metadata": {
      "needs_background": "light"
     },
     "output_type": "display_data"
    }
   ],
   "source": [
    "sns.countplot(data=train_df,x=feature_columns[1],hue='Sourcing Channel')"
   ]
  },
  {
   "cell_type": "code",
   "execution_count": 30,
   "metadata": {},
   "outputs": [
    {
     "data": {
      "text/plain": [
       "<AxesSubplot:xlabel='Manufacturer', ylabel='count'>"
      ]
     },
     "execution_count": 30,
     "metadata": {},
     "output_type": "execute_result"
    },
    {
     "data": {
      "image/png": "[encoded data removed]",
      "text/plain": [
       "<Figure size 432x288 with 1 Axes>"
      ]
     },
     "metadata": {
      "needs_background": "light"
     },
     "output_type": "display_data"
    }
   ],
   "source": [
    "sns.countplot(data=train_df,x=feature_columns[1],hue='Product Size',color='green')"
   ]
  },
  {
   "cell_type": "code",
   "execution_count": 31,
   "metadata": {},
   "outputs": [
    {
     "data": {
      "text/plain": [
       "<AxesSubplot:xlabel='Manufacturer', ylabel='count'>"
      ]
     },
     "execution_count": 31,
     "metadata": {},
     "output_type": "execute_result"
    },
    {
     "data": {
      "image/png": "[encoded data removed]",
      "text/plain": [
       "<Figure size 432x288 with 1 Axes>"
      ]
     },
     "metadata": {
      "needs_background": "light"
     },
     "output_type": "display_data"
    }
   ],
   "source": [
    "sns.countplot(data=train_df,x=feature_columns[1],hue='Product Type',palette=sns.color_palette(\"tab10\"))"
   ]
  },
  {
   "cell_type": "code",
   "execution_count": 32,
   "metadata": {},
   "outputs": [
    {
     "data": {
      "text/plain": [
       "<AxesSubplot:xlabel='Manufacturer', ylabel='count'>"
      ]
     },
     "execution_count": 32,
     "metadata": {},
     "output_type": "execute_result"
    },
    {
     "data": {
      "image/png": "[encoded data removed]",
      "text/plain": [
       "<Figure size 1296x360 with 1 Axes>"
      ]
     },
     "metadata": {
      "needs_background": "light"
     },
     "output_type": "display_data"
    }
   ],
   "source": [
    "fig, ax = plt.subplots(figsize=(18, 5))\n",
    "sns.countplot(data=train_df,x=feature_columns[1],hue='Month',palette=sns.color_palette(\"tab10\"))"
   ]
  },
  {
   "cell_type": "code",
   "execution_count": 33,
   "metadata": {},
   "outputs": [
    {
     "data": {
      "text/plain": [
       "<AxesSubplot:xlabel='Manufacturer', ylabel='count'>"
      ]
     },
     "execution_count": 33,
     "metadata": {},
     "output_type": "execute_result"
    },
    {
     "data": {
      "image/png": "[encoded data removed]",
      "text/plain": [
       "<Figure size 432x288 with 1 Axes>"
      ]
     },
     "metadata": {
      "needs_background": "light"
     },
     "output_type": "display_data"
    }
   ],
   "source": [
    "sns.countplot(data=train_df,x=feature_columns[1],hue='Year',palette=\"ch:.25\")"
   ]
  },
  {
   "cell_type": "code",
   "execution_count": 34,
   "metadata": {},
   "outputs": [
    {
     "data": {
      "text/plain": [
       "<AxesSubplot:xlabel='Sourcing Channel', ylabel='count'>"
      ]
     },
     "execution_count": 34,
     "metadata": {},
     "output_type": "execute_result"
    },
    {
     "data": {
      "image/png": "[encoded data removed]",
      "text/plain": [
       "<Figure size 1296x360 with 1 Axes>"
      ]
     },
     "metadata": {
      "needs_background": "light"
     },
     "output_type": "display_data"
    }
   ],
   "source": [
    "fig, ax = plt.subplots(figsize=(18, 5))\n",
    "sns.countplot(data=train_df,x=feature_columns[3],hue='Area Code',palette=sns.color_palette(\"tab10\"))"
   ]
  },
  {
   "cell_type": "code",
   "execution_count": 35,
   "metadata": {},
   "outputs": [
    {
     "data": {
      "text/plain": [
       "<AxesSubplot:xlabel='Sourcing Channel', ylabel='count'>"
      ]
     },
     "execution_count": 35,
     "metadata": {},
     "output_type": "execute_result"
    },
    {
     "data": {
      "image/png": "[encoded data removed]",
      "text/plain": [
       "<Figure size 432x288 with 1 Axes>"
      ]
     },
     "metadata": {
      "needs_background": "light"
     },
     "output_type": "display_data"
    }
   ],
   "source": [
    "sns.countplot(data=train_df,x=feature_columns[3],hue='Product Size',palette=sns.color_palette(\"tab10\"))"
   ]
  },
  {
   "cell_type": "code",
   "execution_count": 36,
   "metadata": {},
   "outputs": [
    {
     "data": {
      "text/plain": [
       "<AxesSubplot:xlabel='Sourcing Channel', ylabel='count'>"
      ]
     },
     "execution_count": 36,
     "metadata": {},
     "output_type": "execute_result"
    },
    {
     "data": {
      "image/png": "[encoded data removed]",
      "text/plain": [
       "<Figure size 432x288 with 1 Axes>"
      ]
     },
     "metadata": {
      "needs_background": "light"
     },
     "output_type": "display_data"
    }
   ],
   "source": [
    "sns.countplot(data=train_df,x=feature_columns[3],hue='Product Type',palette=sns.color_palette(\"tab10\"))"
   ]
  },
  {
   "cell_type": "code",
   "execution_count": 37,
   "metadata": {},
   "outputs": [
    {
     "data": {
      "text/plain": [
       "<AxesSubplot:xlabel='Sourcing Channel', ylabel='count'>"
      ]
     },
     "execution_count": 37,
     "metadata": {},
     "output_type": "execute_result"
    },
    {
     "data": {
      "image/png": "[encoded data removed]",
      "text/plain": [
       "<Figure size 432x288 with 1 Axes>"
      ]
     },
     "metadata": {
      "needs_background": "light"
     },
     "output_type": "display_data"
    }
   ],
   "source": [
    "sns.countplot(data=train_df,x=feature_columns[3],hue='Year',palette=sns.color_palette(\"tab10\"))"
   ]
  },
  {
   "cell_type": "code",
   "execution_count": 38,
   "metadata": {},
   "outputs": [
    {
     "data": {
      "text/plain": [
       "<AxesSubplot:xlabel='Product Size', ylabel='count'>"
      ]
     },
     "execution_count": 38,
     "metadata": {},
     "output_type": "execute_result"
    },
    {
     "data": {
      "image/png": "[encoded data removed]",
      "text/plain": [
       "<Figure size 432x288 with 1 Axes>"
      ]
     },
     "metadata": {
      "needs_background": "light"
     },
     "output_type": "display_data"
    }
   ],
   "source": [
    "sns.countplot(data=train_df,x=feature_columns[4],hue='Product Type',palette=sns.color_palette(\"tab10\"))"
   ]
  },
  {
   "cell_type": "markdown",
   "metadata": {},
   "source": [
    "## Data Preprocessing"
   ]
  },
  {
   "cell_type": "code",
   "execution_count": 39,
   "metadata": {},
   "outputs": [],
   "source": [
    "parameters = list(train_df.columns)\n",
    "parameters.remove('Sourcing Cost')"
   ]
  },
  {
   "cell_type": "code",
   "execution_count": 40,
   "metadata": {},
   "outputs": [
    {
     "name": "stdout",
     "output_type": "stream",
     "text": [
      "ProductType : 3\n",
      "Manufacturer : 3\n",
      "Area Code : 45\n",
      "Sourcing Channel : 4\n",
      "Product Size : 3\n",
      "Product Type : 2\n",
      "Day : 1\n",
      "Month : 11\n",
      "Year : 2\n"
     ]
    }
   ],
   "source": [
    "for i in parameters:\n",
    "    print(i+\" : \"+str(train_df[i].nunique()))"
   ]
  },
  {
   "cell_type": "code",
   "execution_count": 41,
   "metadata": {},
   "outputs": [],
   "source": [
    "train_data = train_df #copy train dataframe to another variable"
   ]
  },
  {
   "cell_type": "code",
   "execution_count": 42,
   "metadata": {},
   "outputs": [
    {
     "data": {
      "text/html": [
       "<div>\n",
       "<style scoped>\n",
       "    .dataframe tbody tr th:only-of-type {\n",
       "        vertical-align: middle;\n",
       "    }\n",
       "\n",
       "    .dataframe tbody tr th {\n",
       "        vertical-align: top;\n",
       "    }\n",
       "\n",
       "    .dataframe thead th {\n",
       "        text-align: right;\n",
       "    }\n",
       "</style>\n",
       "<table border=\"1\" class=\"dataframe\">\n",
       "  <thead>\n",
       "    <tr style=\"text-align: right;\">\n",
       "      <th></th>\n",
       "      <th>ProductType</th>\n",
       "      <th>Manufacturer</th>\n",
       "      <th>Area Code</th>\n",
       "      <th>Sourcing Channel</th>\n",
       "      <th>Product Size</th>\n",
       "      <th>Product Type</th>\n",
       "      <th>Sourcing Cost</th>\n",
       "      <th>Day</th>\n",
       "      <th>Month</th>\n",
       "      <th>Year</th>\n",
       "    </tr>\n",
       "  </thead>\n",
       "  <tbody>\n",
       "    <tr>\n",
       "      <th>0</th>\n",
       "      <td>NTM3</td>\n",
       "      <td>X1</td>\n",
       "      <td>A28</td>\n",
       "      <td>WHOLESALE</td>\n",
       "      <td>Large</td>\n",
       "      <td>Powder</td>\n",
       "      <td>10.158</td>\n",
       "      <td>1</td>\n",
       "      <td>5</td>\n",
       "      <td>2021</td>\n",
       "    </tr>\n",
       "    <tr>\n",
       "      <th>1</th>\n",
       "      <td>NTM2</td>\n",
       "      <td>X1</td>\n",
       "      <td>A9</td>\n",
       "      <td>DIRECT</td>\n",
       "      <td>Large</td>\n",
       "      <td>Powder</td>\n",
       "      <td>134.281</td>\n",
       "      <td>1</td>\n",
       "      <td>10</td>\n",
       "      <td>2020</td>\n",
       "    </tr>\n",
       "    <tr>\n",
       "      <th>2</th>\n",
       "      <td>NTM3</td>\n",
       "      <td>X2</td>\n",
       "      <td>A20</td>\n",
       "      <td>DIRECT</td>\n",
       "      <td>Large</td>\n",
       "      <td>Powder</td>\n",
       "      <td>12.456</td>\n",
       "      <td>1</td>\n",
       "      <td>12</td>\n",
       "      <td>2020</td>\n",
       "    </tr>\n",
       "    <tr>\n",
       "      <th>3</th>\n",
       "      <td>NTM3</td>\n",
       "      <td>X1</td>\n",
       "      <td>A18</td>\n",
       "      <td>WHOLESALE</td>\n",
       "      <td>Small</td>\n",
       "      <td>Powder</td>\n",
       "      <td>107.220</td>\n",
       "      <td>1</td>\n",
       "      <td>2</td>\n",
       "      <td>2021</td>\n",
       "    </tr>\n",
       "    <tr>\n",
       "      <th>4</th>\n",
       "      <td>NTM2</td>\n",
       "      <td>X1</td>\n",
       "      <td>A28</td>\n",
       "      <td>DIRECT</td>\n",
       "      <td>Large</td>\n",
       "      <td>Liquid</td>\n",
       "      <td>197.763</td>\n",
       "      <td>1</td>\n",
       "      <td>11</td>\n",
       "      <td>2020</td>\n",
       "    </tr>\n",
       "    <tr>\n",
       "      <th>...</th>\n",
       "      <td>...</td>\n",
       "      <td>...</td>\n",
       "      <td>...</td>\n",
       "      <td>...</td>\n",
       "      <td>...</td>\n",
       "      <td>...</td>\n",
       "      <td>...</td>\n",
       "      <td>...</td>\n",
       "      <td>...</td>\n",
       "      <td>...</td>\n",
       "    </tr>\n",
       "    <tr>\n",
       "      <th>550171</th>\n",
       "      <td>NTM2</td>\n",
       "      <td>X1</td>\n",
       "      <td>A5</td>\n",
       "      <td>DIRECT</td>\n",
       "      <td>Large</td>\n",
       "      <td>Powder</td>\n",
       "      <td>136.469</td>\n",
       "      <td>1</td>\n",
       "      <td>7</td>\n",
       "      <td>2020</td>\n",
       "    </tr>\n",
       "    <tr>\n",
       "      <th>550172</th>\n",
       "      <td>NTM3</td>\n",
       "      <td>X1</td>\n",
       "      <td>A14</td>\n",
       "      <td>DIRECT</td>\n",
       "      <td>Large</td>\n",
       "      <td>Liquid</td>\n",
       "      <td>72.559</td>\n",
       "      <td>1</td>\n",
       "      <td>10</td>\n",
       "      <td>2020</td>\n",
       "    </tr>\n",
       "    <tr>\n",
       "      <th>550173</th>\n",
       "      <td>NTM2</td>\n",
       "      <td>X1</td>\n",
       "      <td>A5</td>\n",
       "      <td>DIRECT</td>\n",
       "      <td>Small</td>\n",
       "      <td>Powder</td>\n",
       "      <td>147.639</td>\n",
       "      <td>1</td>\n",
       "      <td>3</td>\n",
       "      <td>2021</td>\n",
       "    </tr>\n",
       "    <tr>\n",
       "      <th>550174</th>\n",
       "      <td>NTM2</td>\n",
       "      <td>X1</td>\n",
       "      <td>A7</td>\n",
       "      <td>DIRECT</td>\n",
       "      <td>Small</td>\n",
       "      <td>Powder</td>\n",
       "      <td>150.044</td>\n",
       "      <td>1</td>\n",
       "      <td>2</td>\n",
       "      <td>2021</td>\n",
       "    </tr>\n",
       "    <tr>\n",
       "      <th>550175</th>\n",
       "      <td>NTM1</td>\n",
       "      <td>X1</td>\n",
       "      <td>A3</td>\n",
       "      <td>DIRECT</td>\n",
       "      <td>Small</td>\n",
       "      <td>Powder</td>\n",
       "      <td>139.421</td>\n",
       "      <td>1</td>\n",
       "      <td>11</td>\n",
       "      <td>2020</td>\n",
       "    </tr>\n",
       "  </tbody>\n",
       "</table>\n",
       "<p>550176 rows × 10 columns</p>\n",
       "</div>"
      ],
      "text/plain": [
       "       ProductType Manufacturer Area Code Sourcing Channel Product Size  \\\n",
       "0             NTM3           X1       A28        WHOLESALE        Large   \n",
       "1             NTM2           X1        A9           DIRECT        Large   \n",
       "2             NTM3           X2       A20           DIRECT        Large   \n",
       "3             NTM3           X1       A18        WHOLESALE        Small   \n",
       "4             NTM2           X1       A28           DIRECT        Large   \n",
       "...            ...          ...       ...              ...          ...   \n",
       "550171        NTM2           X1        A5           DIRECT        Large   \n",
       "550172        NTM3           X1       A14           DIRECT        Large   \n",
       "550173        NTM2           X1        A5           DIRECT        Small   \n",
       "550174        NTM2           X1        A7           DIRECT        Small   \n",
       "550175        NTM1           X1        A3           DIRECT        Small   \n",
       "\n",
       "       Product Type  Sourcing Cost  Day  Month  Year  \n",
       "0            Powder         10.158    1      5  2021  \n",
       "1            Powder        134.281    1     10  2020  \n",
       "2            Powder         12.456    1     12  2020  \n",
       "3            Powder        107.220    1      2  2021  \n",
       "4            Liquid        197.763    1     11  2020  \n",
       "...             ...            ...  ...    ...   ...  \n",
       "550171       Powder        136.469    1      7  2020  \n",
       "550172       Liquid         72.559    1     10  2020  \n",
       "550173       Powder        147.639    1      3  2021  \n",
       "550174       Powder        150.044    1      2  2021  \n",
       "550175       Powder        139.421    1     11  2020  \n",
       "\n",
       "[550176 rows x 10 columns]"
      ]
     },
     "execution_count": 42,
     "metadata": {},
     "output_type": "execute_result"
    }
   ],
   "source": [
    "train_data"
   ]
  },
  {
   "cell_type": "code",
   "execution_count": 43,
   "metadata": {},
   "outputs": [],
   "source": [
    "# label_encoder object\n",
    "# label_encoder = preprocessing.LabelEncoder()  \n",
    "# train_data['Area Code']= label_encoder.fit_transform(train_data['Area Code'])\n",
    "train_AreaCode = []\n",
    "for i in range(train_data.shape[0]):\n",
    "    train_AreaCode.append(int(train_data['Area Code'][i][1:]))\n",
    "\n",
    "train_data['AreaCode'] = train_AreaCode\n",
    "\n",
    "# One hot encoding for other categorical columns\n",
    "temp1 = pd.get_dummies(train_data['ProductType'],drop_first=True)\n",
    "temp2 = pd.get_dummies(train_data['Manufacturer'],drop_first=True)\n",
    "temp3 = pd.get_dummies(train_data['Sourcing Channel'],drop_first=True)\n",
    "temp4 = pd.get_dummies(train_data['Product Size'],drop_first=True)\n",
    "temp5 = pd.get_dummies(train_data['Product Type'],drop_first=True)\n",
    "temp6 = pd.get_dummies(train_data['Year'],prefix='Year',drop_first=True)\n",
    "\n",
    "# Removing Date column as it has no variance\n",
    "train_data = train_data.drop(columns=['Day'])"
   ]
  },
  {
   "cell_type": "code",
   "execution_count": 44,
   "metadata": {},
   "outputs": [],
   "source": [
    "# Drop column as it is now encoded\n",
    "train_data = train_data.drop(columns=['ProductType','Manufacturer','Area Code','Sourcing Channel','Product Size','Product Type','Year'])\n",
    "# Join the encoded df\n",
    "train_data = pd.concat([train_data,temp1,temp2,temp3,temp4,temp5,temp6],axis=1)"
   ]
  },
  {
   "cell_type": "code",
   "execution_count": 45,
   "metadata": {},
   "outputs": [
    {
     "data": {
      "text/html": [
       "<div>\n",
       "<style scoped>\n",
       "    .dataframe tbody tr th:only-of-type {\n",
       "        vertical-align: middle;\n",
       "    }\n",
       "\n",
       "    .dataframe tbody tr th {\n",
       "        vertical-align: top;\n",
       "    }\n",
       "\n",
       "    .dataframe thead th {\n",
       "        text-align: right;\n",
       "    }\n",
       "</style>\n",
       "<table border=\"1\" class=\"dataframe\">\n",
       "  <thead>\n",
       "    <tr style=\"text-align: right;\">\n",
       "      <th></th>\n",
       "      <th>Sourcing Cost</th>\n",
       "      <th>Month</th>\n",
       "      <th>AreaCode</th>\n",
       "      <th>NTM2</th>\n",
       "      <th>NTM3</th>\n",
       "      <th>X2</th>\n",
       "      <th>X3</th>\n",
       "      <th>ECOM</th>\n",
       "      <th>RETAIL</th>\n",
       "      <th>WHOLESALE</th>\n",
       "      <th>Large</th>\n",
       "      <th>Small</th>\n",
       "      <th>Powder</th>\n",
       "      <th>Year_2021</th>\n",
       "    </tr>\n",
       "  </thead>\n",
       "  <tbody>\n",
       "    <tr>\n",
       "      <th>0</th>\n",
       "      <td>10.158</td>\n",
       "      <td>5</td>\n",
       "      <td>28</td>\n",
       "      <td>0</td>\n",
       "      <td>1</td>\n",
       "      <td>0</td>\n",
       "      <td>0</td>\n",
       "      <td>0</td>\n",
       "      <td>0</td>\n",
       "      <td>1</td>\n",
       "      <td>1</td>\n",
       "      <td>0</td>\n",
       "      <td>1</td>\n",
       "      <td>1</td>\n",
       "    </tr>\n",
       "    <tr>\n",
       "      <th>1</th>\n",
       "      <td>134.281</td>\n",
       "      <td>10</td>\n",
       "      <td>9</td>\n",
       "      <td>1</td>\n",
       "      <td>0</td>\n",
       "      <td>0</td>\n",
       "      <td>0</td>\n",
       "      <td>0</td>\n",
       "      <td>0</td>\n",
       "      <td>0</td>\n",
       "      <td>1</td>\n",
       "      <td>0</td>\n",
       "      <td>1</td>\n",
       "      <td>0</td>\n",
       "    </tr>\n",
       "    <tr>\n",
       "      <th>2</th>\n",
       "      <td>12.456</td>\n",
       "      <td>12</td>\n",
       "      <td>20</td>\n",
       "      <td>0</td>\n",
       "      <td>1</td>\n",
       "      <td>1</td>\n",
       "      <td>0</td>\n",
       "      <td>0</td>\n",
       "      <td>0</td>\n",
       "      <td>0</td>\n",
       "      <td>1</td>\n",
       "      <td>0</td>\n",
       "      <td>1</td>\n",
       "      <td>0</td>\n",
       "    </tr>\n",
       "    <tr>\n",
       "      <th>3</th>\n",
       "      <td>107.220</td>\n",
       "      <td>2</td>\n",
       "      <td>18</td>\n",
       "      <td>0</td>\n",
       "      <td>1</td>\n",
       "      <td>0</td>\n",
       "      <td>0</td>\n",
       "      <td>0</td>\n",
       "      <td>0</td>\n",
       "      <td>1</td>\n",
       "      <td>0</td>\n",
       "      <td>1</td>\n",
       "      <td>1</td>\n",
       "      <td>1</td>\n",
       "    </tr>\n",
       "    <tr>\n",
       "      <th>4</th>\n",
       "      <td>197.763</td>\n",
       "      <td>11</td>\n",
       "      <td>28</td>\n",
       "      <td>1</td>\n",
       "      <td>0</td>\n",
       "      <td>0</td>\n",
       "      <td>0</td>\n",
       "      <td>0</td>\n",
       "      <td>0</td>\n",
       "      <td>0</td>\n",
       "      <td>1</td>\n",
       "      <td>0</td>\n",
       "      <td>0</td>\n",
       "      <td>0</td>\n",
       "    </tr>\n",
       "    <tr>\n",
       "      <th>...</th>\n",
       "      <td>...</td>\n",
       "      <td>...</td>\n",
       "      <td>...</td>\n",
       "      <td>...</td>\n",
       "      <td>...</td>\n",
       "      <td>...</td>\n",
       "      <td>...</td>\n",
       "      <td>...</td>\n",
       "      <td>...</td>\n",
       "      <td>...</td>\n",
       "      <td>...</td>\n",
       "      <td>...</td>\n",
       "      <td>...</td>\n",
       "      <td>...</td>\n",
       "    </tr>\n",
       "    <tr>\n",
       "      <th>550171</th>\n",
       "      <td>136.469</td>\n",
       "      <td>7</td>\n",
       "      <td>5</td>\n",
       "      <td>1</td>\n",
       "      <td>0</td>\n",
       "      <td>0</td>\n",
       "      <td>0</td>\n",
       "      <td>0</td>\n",
       "      <td>0</td>\n",
       "      <td>0</td>\n",
       "      <td>1</td>\n",
       "      <td>0</td>\n",
       "      <td>1</td>\n",
       "      <td>0</td>\n",
       "    </tr>\n",
       "    <tr>\n",
       "      <th>550172</th>\n",
       "      <td>72.559</td>\n",
       "      <td>10</td>\n",
       "      <td>14</td>\n",
       "      <td>0</td>\n",
       "      <td>1</td>\n",
       "      <td>0</td>\n",
       "      <td>0</td>\n",
       "      <td>0</td>\n",
       "      <td>0</td>\n",
       "      <td>0</td>\n",
       "      <td>1</td>\n",
       "      <td>0</td>\n",
       "      <td>0</td>\n",
       "      <td>0</td>\n",
       "    </tr>\n",
       "    <tr>\n",
       "      <th>550173</th>\n",
       "      <td>147.639</td>\n",
       "      <td>3</td>\n",
       "      <td>5</td>\n",
       "      <td>1</td>\n",
       "      <td>0</td>\n",
       "      <td>0</td>\n",
       "      <td>0</td>\n",
       "      <td>0</td>\n",
       "      <td>0</td>\n",
       "      <td>0</td>\n",
       "      <td>0</td>\n",
       "      <td>1</td>\n",
       "      <td>1</td>\n",
       "      <td>1</td>\n",
       "    </tr>\n",
       "    <tr>\n",
       "      <th>550174</th>\n",
       "      <td>150.044</td>\n",
       "      <td>2</td>\n",
       "      <td>7</td>\n",
       "      <td>1</td>\n",
       "      <td>0</td>\n",
       "      <td>0</td>\n",
       "      <td>0</td>\n",
       "      <td>0</td>\n",
       "      <td>0</td>\n",
       "      <td>0</td>\n",
       "      <td>0</td>\n",
       "      <td>1</td>\n",
       "      <td>1</td>\n",
       "      <td>1</td>\n",
       "    </tr>\n",
       "    <tr>\n",
       "      <th>550175</th>\n",
       "      <td>139.421</td>\n",
       "      <td>11</td>\n",
       "      <td>3</td>\n",
       "      <td>0</td>\n",
       "      <td>0</td>\n",
       "      <td>0</td>\n",
       "      <td>0</td>\n",
       "      <td>0</td>\n",
       "      <td>0</td>\n",
       "      <td>0</td>\n",
       "      <td>0</td>\n",
       "      <td>1</td>\n",
       "      <td>1</td>\n",
       "      <td>0</td>\n",
       "    </tr>\n",
       "  </tbody>\n",
       "</table>\n",
       "<p>550176 rows × 14 columns</p>\n",
       "</div>"
      ],
      "text/plain": [
       "        Sourcing Cost  Month  AreaCode  NTM2  NTM3  X2  X3  ECOM  RETAIL  \\\n",
       "0              10.158      5        28     0     1   0   0     0       0   \n",
       "1             134.281     10         9     1     0   0   0     0       0   \n",
       "2              12.456     12        20     0     1   1   0     0       0   \n",
       "3             107.220      2        18     0     1   0   0     0       0   \n",
       "4             197.763     11        28     1     0   0   0     0       0   \n",
       "...               ...    ...       ...   ...   ...  ..  ..   ...     ...   \n",
       "550171        136.469      7         5     1     0   0   0     0       0   \n",
       "550172         72.559     10        14     0     1   0   0     0       0   \n",
       "550173        147.639      3         5     1     0   0   0     0       0   \n",
       "550174        150.044      2         7     1     0   0   0     0       0   \n",
       "550175        139.421     11         3     0     0   0   0     0       0   \n",
       "\n",
       "        WHOLESALE  Large  Small  Powder  Year_2021  \n",
       "0               1      1      0       1          1  \n",
       "1               0      1      0       1          0  \n",
       "2               0      1      0       1          0  \n",
       "3               1      0      1       1          1  \n",
       "4               0      1      0       0          0  \n",
       "...           ...    ...    ...     ...        ...  \n",
       "550171          0      1      0       1          0  \n",
       "550172          0      1      0       0          0  \n",
       "550173          0      0      1       1          1  \n",
       "550174          0      0      1       1          1  \n",
       "550175          0      0      1       1          0  \n",
       "\n",
       "[550176 rows x 14 columns]"
      ]
     },
     "execution_count": 45,
     "metadata": {},
     "output_type": "execute_result"
    }
   ],
   "source": [
    "train_data"
   ]
  },
  {
   "cell_type": "code",
   "execution_count": 46,
   "metadata": {},
   "outputs": [
    {
     "name": "stdout",
     "output_type": "stream",
     "text": [
      "<class 'pandas.core.frame.DataFrame'>\n",
      "RangeIndex: 550176 entries, 0 to 550175\n",
      "Data columns (total 14 columns):\n",
      " #   Column         Non-Null Count   Dtype  \n",
      "---  ------         --------------   -----  \n",
      " 0   Sourcing Cost  550176 non-null  float64\n",
      " 1   Month          550176 non-null  int64  \n",
      " 2   AreaCode       550176 non-null  int64  \n",
      " 3   NTM2           550176 non-null  uint8  \n",
      " 4   NTM3           550176 non-null  uint8  \n",
      " 5   X2             550176 non-null  uint8  \n",
      " 6   X3             550176 non-null  uint8  \n",
      " 7   ECOM           550176 non-null  uint8  \n",
      " 8   RETAIL         550176 non-null  uint8  \n",
      " 9   WHOLESALE      550176 non-null  uint8  \n",
      " 10  Large          550176 non-null  uint8  \n",
      " 11  Small          550176 non-null  uint8  \n",
      " 12  Powder         550176 non-null  uint8  \n",
      " 13  Year_2021      550176 non-null  uint8  \n",
      "dtypes: float64(1), int64(2), uint8(11)\n",
      "memory usage: 18.4 MB\n"
     ]
    }
   ],
   "source": [
    "train_data.info()"
   ]
  },
  {
   "cell_type": "markdown",
   "metadata": {},
   "source": [
    "## Outlier Indentification "
   ]
  },
  {
   "cell_type": "code",
   "execution_count": 47,
   "metadata": {},
   "outputs": [],
   "source": [
    "input_train_data = train_data.drop('Sourcing Cost',axis=1)\n",
    "output_train_data = train_data['Sourcing Cost']"
   ]
  },
  {
   "cell_type": "code",
   "execution_count": 48,
   "metadata": {},
   "outputs": [
    {
     "data": {
      "text/plain": [
       "Index(['Month', 'AreaCode', 'NTM2', 'NTM3', 'X2', 'X3', 'ECOM', 'RETAIL',\n",
       "       'WHOLESALE', 'Large', 'Small', 'Powder', 'Year_2021'],\n",
       "      dtype='object')"
      ]
     },
     "execution_count": 48,
     "metadata": {},
     "output_type": "execute_result"
    }
   ],
   "source": [
    "input_train_data.columns"
   ]
  },
  {
   "cell_type": "code",
   "execution_count": 49,
   "metadata": {},
   "outputs": [
    {
     "data": {
      "image/png": "[encoded data removed]",
      "text/plain": [
       "<Figure size 1080x720 with 1 Axes>"
      ]
     },
     "metadata": {
      "needs_background": "light"
     },
     "output_type": "display_data"
    }
   ],
   "source": [
    "fig, ax = plt.subplots(figsize=(15, 10))\n",
    "boxplot = sns.boxplot(x=\"variable\", y=\"value\", data=pd.melt(input_train_data))\n",
    "boxplot.axes.set_title(\"Outliers Check\", fontsize=16)\n",
    "boxplot.set_xlabel(\"Features\", fontsize=14)\n",
    "boxplot.set_ylabel(\"Values\", fontsize=14)\n",
    "plt.show()"
   ]
  },
  {
   "cell_type": "markdown",
   "metadata": {},
   "source": [
    "Find outlier in Sourcing Cost "
   ]
  },
  {
   "cell_type": "code",
   "execution_count": 50,
   "metadata": {},
   "outputs": [
    {
     "name": "stderr",
     "output_type": "stream",
     "text": [
      "C:\\Users\\Rishabh\\anaconda3\\lib\\site-packages\\seaborn\\_decorators.py:36: FutureWarning: Pass the following variable as a keyword arg: x. From version 0.12, the only valid positional argument will be `data`, and passing other arguments without an explicit keyword will result in an error or misinterpretation.\n",
      "  warnings.warn(\n"
     ]
    },
    {
     "data": {
      "text/plain": [
       "<AxesSubplot:xlabel='Sourcing Cost'>"
      ]
     },
     "execution_count": 50,
     "metadata": {},
     "output_type": "execute_result"
    },
    {
     "data": {
      "image/png": "[encoded data removed]",
      "text/plain": [
       "<Figure size 1296x360 with 1 Axes>"
      ]
     },
     "metadata": {
      "needs_background": "light"
     },
     "output_type": "display_data"
    }
   ],
   "source": [
    "fig, ax = plt.subplots(figsize=(18, 5))\n",
    "sns.boxplot(train_data['Sourcing Cost'])"
   ]
  },
  {
   "cell_type": "code",
   "execution_count": 51,
   "metadata": {},
   "outputs": [],
   "source": [
    "Q1 = train_data['Sourcing Cost'].quantile(0.25)\n",
    "Q3 = train_data['Sourcing Cost'].quantile(0.75)\n",
    "IQR = Q3 - Q1    #IQR is interquartile range. \n",
    "\n",
    "filter = (train_data['Sourcing Cost'] >= Q1 - 1.5 * IQR) & (train_data['Sourcing Cost'] <= Q3 + 1.5 *IQR)\n",
    "train_data = train_data.loc[filter]"
   ]
  },
  {
   "cell_type": "code",
   "execution_count": 52,
   "metadata": {},
   "outputs": [],
   "source": [
    "train_data = train_data.reset_index(drop=True)"
   ]
  },
  {
   "cell_type": "code",
   "execution_count": 53,
   "metadata": {
    "scrolled": true
   },
   "outputs": [
    {
     "name": "stderr",
     "output_type": "stream",
     "text": [
      "C:\\Users\\Rishabh\\anaconda3\\lib\\site-packages\\seaborn\\_decorators.py:36: FutureWarning: Pass the following variable as a keyword arg: x. From version 0.12, the only valid positional argument will be `data`, and passing other arguments without an explicit keyword will result in an error or misinterpretation.\n",
      "  warnings.warn(\n"
     ]
    },
    {
     "data": {
      "text/plain": [
       "<AxesSubplot:xlabel='Sourcing Cost'>"
      ]
     },
     "execution_count": 53,
     "metadata": {},
     "output_type": "execute_result"
    },
    {
     "data": {
      "image/png": "[encoded data removed]",
      "text/plain": [
       "<Figure size 1296x360 with 1 Axes>"
      ]
     },
     "metadata": {
      "needs_background": "light"
     },
     "output_type": "display_data"
    }
   ],
   "source": [
    "fig, ax = plt.subplots(figsize=(18, 5))\n",
    "sns.boxplot(train_data['Sourcing Cost'])"
   ]
  },
  {
   "cell_type": "code",
   "execution_count": 54,
   "metadata": {},
   "outputs": [],
   "source": [
    "#Negative cost was removed\n",
    "train_data = train_data[train_data['Sourcing Cost']>0.1]"
   ]
  },
  {
   "cell_type": "code",
   "execution_count": 55,
   "metadata": {},
   "outputs": [
    {
     "data": {
      "text/html": [
       "<div>\n",
       "<style scoped>\n",
       "    .dataframe tbody tr th:only-of-type {\n",
       "        vertical-align: middle;\n",
       "    }\n",
       "\n",
       "    .dataframe tbody tr th {\n",
       "        vertical-align: top;\n",
       "    }\n",
       "\n",
       "    .dataframe thead th {\n",
       "        text-align: right;\n",
       "    }\n",
       "</style>\n",
       "<table border=\"1\" class=\"dataframe\">\n",
       "  <thead>\n",
       "    <tr style=\"text-align: right;\">\n",
       "      <th></th>\n",
       "      <th>Sourcing Cost</th>\n",
       "      <th>Month</th>\n",
       "      <th>AreaCode</th>\n",
       "      <th>NTM2</th>\n",
       "      <th>NTM3</th>\n",
       "      <th>X2</th>\n",
       "      <th>X3</th>\n",
       "      <th>ECOM</th>\n",
       "      <th>RETAIL</th>\n",
       "      <th>WHOLESALE</th>\n",
       "      <th>Large</th>\n",
       "      <th>Small</th>\n",
       "      <th>Powder</th>\n",
       "      <th>Year_2021</th>\n",
       "    </tr>\n",
       "  </thead>\n",
       "  <tbody>\n",
       "    <tr>\n",
       "      <th>0</th>\n",
       "      <td>10.158</td>\n",
       "      <td>5</td>\n",
       "      <td>28</td>\n",
       "      <td>0</td>\n",
       "      <td>1</td>\n",
       "      <td>0</td>\n",
       "      <td>0</td>\n",
       "      <td>0</td>\n",
       "      <td>0</td>\n",
       "      <td>1</td>\n",
       "      <td>1</td>\n",
       "      <td>0</td>\n",
       "      <td>1</td>\n",
       "      <td>1</td>\n",
       "    </tr>\n",
       "    <tr>\n",
       "      <th>1</th>\n",
       "      <td>134.281</td>\n",
       "      <td>10</td>\n",
       "      <td>9</td>\n",
       "      <td>1</td>\n",
       "      <td>0</td>\n",
       "      <td>0</td>\n",
       "      <td>0</td>\n",
       "      <td>0</td>\n",
       "      <td>0</td>\n",
       "      <td>0</td>\n",
       "      <td>1</td>\n",
       "      <td>0</td>\n",
       "      <td>1</td>\n",
       "      <td>0</td>\n",
       "    </tr>\n",
       "    <tr>\n",
       "      <th>2</th>\n",
       "      <td>12.456</td>\n",
       "      <td>12</td>\n",
       "      <td>20</td>\n",
       "      <td>0</td>\n",
       "      <td>1</td>\n",
       "      <td>1</td>\n",
       "      <td>0</td>\n",
       "      <td>0</td>\n",
       "      <td>0</td>\n",
       "      <td>0</td>\n",
       "      <td>1</td>\n",
       "      <td>0</td>\n",
       "      <td>1</td>\n",
       "      <td>0</td>\n",
       "    </tr>\n",
       "    <tr>\n",
       "      <th>3</th>\n",
       "      <td>107.220</td>\n",
       "      <td>2</td>\n",
       "      <td>18</td>\n",
       "      <td>0</td>\n",
       "      <td>1</td>\n",
       "      <td>0</td>\n",
       "      <td>0</td>\n",
       "      <td>0</td>\n",
       "      <td>0</td>\n",
       "      <td>1</td>\n",
       "      <td>0</td>\n",
       "      <td>1</td>\n",
       "      <td>1</td>\n",
       "      <td>1</td>\n",
       "    </tr>\n",
       "    <tr>\n",
       "      <th>4</th>\n",
       "      <td>197.763</td>\n",
       "      <td>11</td>\n",
       "      <td>28</td>\n",
       "      <td>1</td>\n",
       "      <td>0</td>\n",
       "      <td>0</td>\n",
       "      <td>0</td>\n",
       "      <td>0</td>\n",
       "      <td>0</td>\n",
       "      <td>0</td>\n",
       "      <td>1</td>\n",
       "      <td>0</td>\n",
       "      <td>0</td>\n",
       "      <td>0</td>\n",
       "    </tr>\n",
       "    <tr>\n",
       "      <th>...</th>\n",
       "      <td>...</td>\n",
       "      <td>...</td>\n",
       "      <td>...</td>\n",
       "      <td>...</td>\n",
       "      <td>...</td>\n",
       "      <td>...</td>\n",
       "      <td>...</td>\n",
       "      <td>...</td>\n",
       "      <td>...</td>\n",
       "      <td>...</td>\n",
       "      <td>...</td>\n",
       "      <td>...</td>\n",
       "      <td>...</td>\n",
       "      <td>...</td>\n",
       "    </tr>\n",
       "    <tr>\n",
       "      <th>531510</th>\n",
       "      <td>136.469</td>\n",
       "      <td>7</td>\n",
       "      <td>5</td>\n",
       "      <td>1</td>\n",
       "      <td>0</td>\n",
       "      <td>0</td>\n",
       "      <td>0</td>\n",
       "      <td>0</td>\n",
       "      <td>0</td>\n",
       "      <td>0</td>\n",
       "      <td>1</td>\n",
       "      <td>0</td>\n",
       "      <td>1</td>\n",
       "      <td>0</td>\n",
       "    </tr>\n",
       "    <tr>\n",
       "      <th>531511</th>\n",
       "      <td>72.559</td>\n",
       "      <td>10</td>\n",
       "      <td>14</td>\n",
       "      <td>0</td>\n",
       "      <td>1</td>\n",
       "      <td>0</td>\n",
       "      <td>0</td>\n",
       "      <td>0</td>\n",
       "      <td>0</td>\n",
       "      <td>0</td>\n",
       "      <td>1</td>\n",
       "      <td>0</td>\n",
       "      <td>0</td>\n",
       "      <td>0</td>\n",
       "    </tr>\n",
       "    <tr>\n",
       "      <th>531512</th>\n",
       "      <td>147.639</td>\n",
       "      <td>3</td>\n",
       "      <td>5</td>\n",
       "      <td>1</td>\n",
       "      <td>0</td>\n",
       "      <td>0</td>\n",
       "      <td>0</td>\n",
       "      <td>0</td>\n",
       "      <td>0</td>\n",
       "      <td>0</td>\n",
       "      <td>0</td>\n",
       "      <td>1</td>\n",
       "      <td>1</td>\n",
       "      <td>1</td>\n",
       "    </tr>\n",
       "    <tr>\n",
       "      <th>531513</th>\n",
       "      <td>150.044</td>\n",
       "      <td>2</td>\n",
       "      <td>7</td>\n",
       "      <td>1</td>\n",
       "      <td>0</td>\n",
       "      <td>0</td>\n",
       "      <td>0</td>\n",
       "      <td>0</td>\n",
       "      <td>0</td>\n",
       "      <td>0</td>\n",
       "      <td>0</td>\n",
       "      <td>1</td>\n",
       "      <td>1</td>\n",
       "      <td>1</td>\n",
       "    </tr>\n",
       "    <tr>\n",
       "      <th>531514</th>\n",
       "      <td>139.421</td>\n",
       "      <td>11</td>\n",
       "      <td>3</td>\n",
       "      <td>0</td>\n",
       "      <td>0</td>\n",
       "      <td>0</td>\n",
       "      <td>0</td>\n",
       "      <td>0</td>\n",
       "      <td>0</td>\n",
       "      <td>0</td>\n",
       "      <td>0</td>\n",
       "      <td>1</td>\n",
       "      <td>1</td>\n",
       "      <td>0</td>\n",
       "    </tr>\n",
       "  </tbody>\n",
       "</table>\n",
       "<p>531515 rows × 14 columns</p>\n",
       "</div>"
      ],
      "text/plain": [
       "        Sourcing Cost  Month  AreaCode  NTM2  NTM3  X2  X3  ECOM  RETAIL  \\\n",
       "0              10.158      5        28     0     1   0   0     0       0   \n",
       "1             134.281     10         9     1     0   0   0     0       0   \n",
       "2              12.456     12        20     0     1   1   0     0       0   \n",
       "3             107.220      2        18     0     1   0   0     0       0   \n",
       "4             197.763     11        28     1     0   0   0     0       0   \n",
       "...               ...    ...       ...   ...   ...  ..  ..   ...     ...   \n",
       "531510        136.469      7         5     1     0   0   0     0       0   \n",
       "531511         72.559     10        14     0     1   0   0     0       0   \n",
       "531512        147.639      3         5     1     0   0   0     0       0   \n",
       "531513        150.044      2         7     1     0   0   0     0       0   \n",
       "531514        139.421     11         3     0     0   0   0     0       0   \n",
       "\n",
       "        WHOLESALE  Large  Small  Powder  Year_2021  \n",
       "0               1      1      0       1          1  \n",
       "1               0      1      0       1          0  \n",
       "2               0      1      0       1          0  \n",
       "3               1      0      1       1          1  \n",
       "4               0      1      0       0          0  \n",
       "...           ...    ...    ...     ...        ...  \n",
       "531510          0      1      0       1          0  \n",
       "531511          0      1      0       0          0  \n",
       "531512          0      0      1       1          1  \n",
       "531513          0      0      1       1          1  \n",
       "531514          0      0      1       1          0  \n",
       "\n",
       "[531515 rows x 14 columns]"
      ]
     },
     "execution_count": 55,
     "metadata": {},
     "output_type": "execute_result"
    }
   ],
   "source": [
    "train_data = train_data.reset_index(drop=True)\n",
    "train_data"
   ]
  },
  {
   "cell_type": "markdown",
   "metadata": {},
   "source": [
    "### Correlation Matrix of all Columns "
   ]
  },
  {
   "cell_type": "code",
   "execution_count": 56,
   "metadata": {},
   "outputs": [
    {
     "data": {
      "text/plain": [
       "<AxesSubplot:>"
      ]
     },
     "execution_count": 56,
     "metadata": {},
     "output_type": "execute_result"
    },
    {
     "data": {
      "image/png": "[encoded data removed]",
      "text/plain": [
       "<Figure size 720x648 with 2 Axes>"
      ]
     },
     "metadata": {
      "needs_background": "light"
     },
     "output_type": "display_data"
    }
   ],
   "source": [
    "fig, ax = plt.subplots(figsize=(10,9))\n",
    "sns.heatmap(np.round(train_data.corr(),2), cmap=\"YlGnBu\", annot=True)"
   ]
  },
  {
   "cell_type": "markdown",
   "metadata": {},
   "source": [
    "# Data Splitting and Model Training"
   ]
  },
  {
   "cell_type": "code",
   "execution_count": 57,
   "metadata": {},
   "outputs": [],
   "source": [
    "X = train_data.drop(columns=['Sourcing Cost'])\n",
    "y = train_data['Sourcing Cost']"
   ]
  },
  {
   "cell_type": "code",
   "execution_count": 58,
   "metadata": {},
   "outputs": [],
   "source": [
    "from sklearn.model_selection import train_test_split\n",
    "\n",
    "X_train,X_test,y_train,y_test = train_test_split(X,y,test_size=0.3,random_state=101)"
   ]
  },
  {
   "cell_type": "code",
   "execution_count": 59,
   "metadata": {},
   "outputs": [
    {
     "name": "stdout",
     "output_type": "stream",
     "text": [
      "(372060, 13)\n",
      "(159455, 13)\n",
      "(372060,)\n",
      "(159455,)\n"
     ]
    }
   ],
   "source": [
    "print(X_train.shape)\n",
    "print(X_test.shape)\n",
    "print(y_train.shape)\n",
    "print(y_test.shape)"
   ]
  },
  {
   "cell_type": "markdown",
   "metadata": {},
   "source": [
    "### Linear Regression "
   ]
  },
  {
   "cell_type": "code",
   "execution_count": 60,
   "metadata": {},
   "outputs": [
    {
     "data": {
      "text/plain": [
       "LinearRegression()"
      ]
     },
     "execution_count": 60,
     "metadata": {},
     "output_type": "execute_result"
    }
   ],
   "source": [
    "from sklearn.linear_model import LinearRegression\n",
    "\n",
    "lr = LinearRegression()\n",
    "\n",
    "lr.fit(X_train,y_train)"
   ]
  },
  {
   "cell_type": "code",
   "execution_count": 61,
   "metadata": {},
   "outputs": [],
   "source": [
    "y_pred = lr.predict(X_test)"
   ]
  },
  {
   "cell_type": "code",
   "execution_count": 62,
   "metadata": {},
   "outputs": [
    {
     "name": "stdout",
     "output_type": "stream",
     "text": [
      "MAE :  30.32236805207387\n",
      "RMSE :  42.187642655896894\n",
      "R2-Score :  0.37829004436687963\n"
     ]
    }
   ],
   "source": [
    "from sklearn.metrics import mean_absolute_error\n",
    "from sklearn.metrics import mean_squared_error\n",
    "from sklearn.metrics import r2_score\n",
    "\n",
    "print(\"MAE : \",mean_absolute_error(y_test,y_pred))\n",
    "print(\"RMSE : \", np.sqrt(mean_squared_error(y_test,y_pred)))\n",
    "print(\"R2-Score : \",r2_score(y_test,y_pred))"
   ]
  },
  {
   "cell_type": "code",
   "execution_count": 63,
   "metadata": {},
   "outputs": [
    {
     "data": {
      "text/plain": [
       "515031    197.22\n",
       "117694    143.92\n",
       "457233     23.04\n",
       "269176    107.54\n",
       "115085    141.91\n",
       "           ...  \n",
       "149936     54.55\n",
       "346337    102.60\n",
       "136303     79.61\n",
       "491440    113.56\n",
       "162006     95.87\n",
       "Name: Sourcing Cost, Length: 159455, dtype: float64"
      ]
     },
     "execution_count": 63,
     "metadata": {},
     "output_type": "execute_result"
    }
   ],
   "source": [
    "np.round(y_test,2)"
   ]
  },
  {
   "cell_type": "code",
   "execution_count": 64,
   "metadata": {},
   "outputs": [
    {
     "data": {
      "text/plain": [
       "array([129.43, 135.91,  80.09, ...,  77.05, 134.28, 134.92])"
      ]
     },
     "execution_count": 64,
     "metadata": {},
     "output_type": "execute_result"
    }
   ],
   "source": [
    "np.round(y_pred,2)"
   ]
  },
  {
   "cell_type": "markdown",
   "metadata": {},
   "source": [
    "### Polynomial Regression "
   ]
  },
  {
   "cell_type": "code",
   "execution_count": 65,
   "metadata": {},
   "outputs": [],
   "source": [
    "from sklearn.preprocessing import PolynomialFeatures"
   ]
  },
  {
   "cell_type": "code",
   "execution_count": 66,
   "metadata": {},
   "outputs": [],
   "source": [
    "polyreg = PolynomialFeatures(degree=3)"
   ]
  },
  {
   "cell_type": "code",
   "execution_count": 67,
   "metadata": {},
   "outputs": [],
   "source": [
    "X_train_transformed = polyreg.fit_transform(X_train)\n",
    "X_test_transformed = polyreg.fit_transform(X_test)"
   ]
  },
  {
   "cell_type": "code",
   "execution_count": 68,
   "metadata": {},
   "outputs": [
    {
     "data": {
      "text/plain": [
       "LinearRegression()"
      ]
     },
     "execution_count": 68,
     "metadata": {},
     "output_type": "execute_result"
    }
   ],
   "source": [
    "pr = LinearRegression()\n",
    "pr.fit(X_train_transformed,y_train)"
   ]
  },
  {
   "cell_type": "code",
   "execution_count": 69,
   "metadata": {},
   "outputs": [],
   "source": [
    "y_pred_pr = pr.predict(X_test_transformed)"
   ]
  },
  {
   "cell_type": "code",
   "execution_count": 70,
   "metadata": {},
   "outputs": [
    {
     "name": "stdout",
     "output_type": "stream",
     "text": [
      "MAE :  15.64587738426169\n",
      "RMSE :  25.924634069801574\n",
      "R2-Score :  0.7652300138146404\n"
     ]
    }
   ],
   "source": [
    "print(\"MAE : \",mean_absolute_error(y_test,y_pred_pr))\n",
    "print(\"RMSE : \", np.sqrt(mean_squared_error(y_test,y_pred_pr)))\n",
    "print(\"R2-Score : \",r2_score(y_test,y_pred_pr))"
   ]
  },
  {
   "cell_type": "code",
   "execution_count": 71,
   "metadata": {},
   "outputs": [
    {
     "data": {
      "text/plain": [
       "515031    197.22\n",
       "117694    143.92\n",
       "457233     23.04\n",
       "269176    107.54\n",
       "115085    141.91\n",
       "           ...  \n",
       "149936     54.55\n",
       "346337    102.60\n",
       "136303     79.61\n",
       "491440    113.56\n",
       "162006     95.87\n",
       "Name: Sourcing Cost, Length: 159455, dtype: float64"
      ]
     },
     "execution_count": 71,
     "metadata": {},
     "output_type": "execute_result"
    }
   ],
   "source": [
    "np.round(y_test,2)"
   ]
  },
  {
   "cell_type": "code",
   "execution_count": 72,
   "metadata": {},
   "outputs": [
    {
     "data": {
      "text/plain": [
       "array([132.73, 160.23,  35.75, ...,  84.05, 111.06, 113.58])"
      ]
     },
     "execution_count": 72,
     "metadata": {},
     "output_type": "execute_result"
    }
   ],
   "source": [
    "np.round(y_pred_pr,2)"
   ]
  },
  {
   "cell_type": "markdown",
   "metadata": {},
   "source": [
    "### XGBoost Regression "
   ]
  },
  {
   "cell_type": "code",
   "execution_count": 73,
   "metadata": {},
   "outputs": [
    {
     "name": "stdout",
     "output_type": "stream",
     "text": [
      "[03:47:02] WARNING: C:/Users/Administrator/workspace/xgboost-win64_release_1.4.0/src/objective/regression_obj.cu:171: reg:linear is now deprecated in favor of reg:squarederror.\n"
     ]
    }
   ],
   "source": [
    "import xgboost as xg\n",
    "\n",
    "xgb_r = xg.XGBRegressor(objective ='reg:linear',n_estimators = 13)\n",
    "  \n",
    "# Fitting the model\n",
    "xgb_r.fit(X_train, y_train)\n",
    "  \n",
    "# Predict the model\n",
    "xgb_pred = xgb_r.predict(X_test)"
   ]
  },
  {
   "cell_type": "code",
   "execution_count": 74,
   "metadata": {},
   "outputs": [
    {
     "name": "stdout",
     "output_type": "stream",
     "text": [
      "MAE :  10.497412999842348\n",
      "RMSE :  19.59062621159242\n",
      "R2-Score :  0.865935454185211\n"
     ]
    }
   ],
   "source": [
    "print(\"MAE : \",mean_absolute_error(y_test,xgb_pred))\n",
    "print(\"RMSE : \", np.sqrt(mean_squared_error(y_test,xgb_pred)))\n",
    "print(\"R2-Score : \",r2_score(y_test,xgb_pred))"
   ]
  },
  {
   "cell_type": "code",
   "execution_count": 75,
   "metadata": {},
   "outputs": [
    {
     "data": {
      "text/plain": [
       "[[515031    197.217\n",
       "  117694    143.919\n",
       "  457233     23.040\n",
       "  269176    107.540\n",
       "  115085    141.906\n",
       "             ...   \n",
       "  149936     54.546\n",
       "  346337    102.600\n",
       "  136303     79.612\n",
       "  491440    113.563\n",
       "  162006     95.870\n",
       "  Name: Sourcing Cost, Length: 159455, dtype: float64,\n",
       "  array([192.171   , 145.34755 ,  33.860867, ...,  77.86499 ,  91.48082 ,\n",
       "         103.61974 ], dtype=float32)]]"
      ]
     },
     "execution_count": 75,
     "metadata": {},
     "output_type": "execute_result"
    }
   ],
   "source": [
    "[[y_test,xgb_pred]]"
   ]
  },
  {
   "cell_type": "markdown",
   "metadata": {},
   "source": [
    "### Random Forest Regression "
   ]
  },
  {
   "cell_type": "code",
   "execution_count": 76,
   "metadata": {},
   "outputs": [
    {
     "data": {
      "text/plain": [
       "RandomForestRegressor(random_state=0)"
      ]
     },
     "execution_count": 76,
     "metadata": {},
     "output_type": "execute_result"
    }
   ],
   "source": [
    "from sklearn.ensemble import RandomForestRegressor\n",
    " \n",
    " # create regressor object\n",
    "rf_regressor = RandomForestRegressor(n_estimators = 100, random_state = 0)\n",
    " \n",
    "# fit the regressor with x and y data\n",
    "rf_regressor.fit(X_train, y_train) "
   ]
  },
  {
   "cell_type": "code",
   "execution_count": 77,
   "metadata": {},
   "outputs": [],
   "source": [
    "rf_pred = rf_regressor.predict(X_test)"
   ]
  },
  {
   "cell_type": "code",
   "execution_count": 78,
   "metadata": {},
   "outputs": [
    {
     "name": "stdout",
     "output_type": "stream",
     "text": [
      "MAE :  8.3126721206112\n",
      "RMSE :  17.729671161328415\n",
      "R2-Score :  0.890195872406088\n"
     ]
    }
   ],
   "source": [
    "print(\"MAE : \",mean_absolute_error(y_test,rf_pred))\n",
    "print(\"RMSE : \", np.sqrt(mean_squared_error(y_test,rf_pred)))\n",
    "print(\"R2-Score : \",r2_score(y_test,rf_pred))"
   ]
  },
  {
   "cell_type": "code",
   "execution_count": 79,
   "metadata": {},
   "outputs": [
    {
     "data": {
      "text/plain": [
       "[[515031    197.217\n",
       "  117694    143.919\n",
       "  457233     23.040\n",
       "  269176    107.540\n",
       "  115085    141.906\n",
       "             ...   \n",
       "  149936     54.546\n",
       "  346337    102.600\n",
       "  136303     79.612\n",
       "  491440    113.563\n",
       "  162006     95.870\n",
       "  Name: Sourcing Cost, Length: 159455, dtype: float64,\n",
       "  array([198.27725063, 143.28620624,  32.90105211, ...,  80.12163744,\n",
       "          92.66784079,  97.79547099])]]"
      ]
     },
     "execution_count": 79,
     "metadata": {},
     "output_type": "execute_result"
    }
   ],
   "source": [
    "[[y_test,rf_pred]]"
   ]
  },
  {
   "cell_type": "markdown",
   "metadata": {},
   "source": [
    "# Final prediction on Real Testing Dataset"
   ]
  },
  {
   "cell_type": "code",
   "execution_count": 80,
   "metadata": {},
   "outputs": [],
   "source": [
    "test_data = test_df"
   ]
  },
  {
   "cell_type": "code",
   "execution_count": 81,
   "metadata": {},
   "outputs": [],
   "source": [
    "test_data['Area Code'] = test_data['Area Code'].astype('str') "
   ]
  },
  {
   "cell_type": "code",
   "execution_count": 82,
   "metadata": {},
   "outputs": [
    {
     "name": "stdout",
     "output_type": "stream",
     "text": [
      "<class 'pandas.core.frame.DataFrame'>\n",
      "RangeIndex: 96 entries, 0 to 95\n",
      "Data columns (total 8 columns):\n",
      " #   Column             Non-Null Count  Dtype         \n",
      "---  ------             --------------  -----         \n",
      " 0   ProductType        96 non-null     object        \n",
      " 1   Manufacturer       96 non-null     object        \n",
      " 2   Area Code          96 non-null     object        \n",
      " 3   Sourcing Channel   96 non-null     object        \n",
      " 4   Product Size       96 non-null     object        \n",
      " 5   Product Type       96 non-null     object        \n",
      " 6   Month of Sourcing  96 non-null     datetime64[ns]\n",
      " 7   Sourcing Cost      96 non-null     float64       \n",
      "dtypes: datetime64[ns](1), float64(1), object(6)\n",
      "memory usage: 6.1+ KB\n"
     ]
    }
   ],
   "source": [
    "test_data.info()"
   ]
  },
  {
   "cell_type": "code",
   "execution_count": 83,
   "metadata": {},
   "outputs": [
    {
     "data": {
      "text/html": [
       "<div>\n",
       "<style scoped>\n",
       "    .dataframe tbody tr th:only-of-type {\n",
       "        vertical-align: middle;\n",
       "    }\n",
       "\n",
       "    .dataframe tbody tr th {\n",
       "        vertical-align: top;\n",
       "    }\n",
       "\n",
       "    .dataframe thead th {\n",
       "        text-align: right;\n",
       "    }\n",
       "</style>\n",
       "<table border=\"1\" class=\"dataframe\">\n",
       "  <thead>\n",
       "    <tr style=\"text-align: right;\">\n",
       "      <th></th>\n",
       "      <th>ProductType</th>\n",
       "      <th>Manufacturer</th>\n",
       "      <th>Area Code</th>\n",
       "      <th>Sourcing Channel</th>\n",
       "      <th>Product Size</th>\n",
       "      <th>Product Type</th>\n",
       "      <th>Month of Sourcing</th>\n",
       "      <th>Sourcing Cost</th>\n",
       "    </tr>\n",
       "  </thead>\n",
       "  <tbody>\n",
       "    <tr>\n",
       "      <th>0</th>\n",
       "      <td>NTM1</td>\n",
       "      <td>X1</td>\n",
       "      <td>A1</td>\n",
       "      <td>DIRECT</td>\n",
       "      <td>Small</td>\n",
       "      <td>Powder</td>\n",
       "      <td>2021-06-21</td>\n",
       "      <td>103.68</td>\n",
       "    </tr>\n",
       "    <tr>\n",
       "      <th>1</th>\n",
       "      <td>NTM1</td>\n",
       "      <td>X1</td>\n",
       "      <td>A10</td>\n",
       "      <td>DIRECT</td>\n",
       "      <td>Large</td>\n",
       "      <td>Powder</td>\n",
       "      <td>2021-06-21</td>\n",
       "      <td>155.75</td>\n",
       "    </tr>\n",
       "    <tr>\n",
       "      <th>2</th>\n",
       "      <td>NTM1</td>\n",
       "      <td>X1</td>\n",
       "      <td>A10</td>\n",
       "      <td>ECOM</td>\n",
       "      <td>Large</td>\n",
       "      <td>Powder</td>\n",
       "      <td>2021-06-21</td>\n",
       "      <td>143.02</td>\n",
       "    </tr>\n",
       "    <tr>\n",
       "      <th>3</th>\n",
       "      <td>NTM1</td>\n",
       "      <td>X1</td>\n",
       "      <td>A11</td>\n",
       "      <td>DIRECT</td>\n",
       "      <td>Large</td>\n",
       "      <td>Powder</td>\n",
       "      <td>2021-06-21</td>\n",
       "      <td>139.39</td>\n",
       "    </tr>\n",
       "    <tr>\n",
       "      <th>4</th>\n",
       "      <td>NTM1</td>\n",
       "      <td>X1</td>\n",
       "      <td>A2</td>\n",
       "      <td>DIRECT</td>\n",
       "      <td>Large</td>\n",
       "      <td>Powder</td>\n",
       "      <td>2021-06-21</td>\n",
       "      <td>169.42</td>\n",
       "    </tr>\n",
       "    <tr>\n",
       "      <th>...</th>\n",
       "      <td>...</td>\n",
       "      <td>...</td>\n",
       "      <td>...</td>\n",
       "      <td>...</td>\n",
       "      <td>...</td>\n",
       "      <td>...</td>\n",
       "      <td>...</td>\n",
       "      <td>...</td>\n",
       "    </tr>\n",
       "    <tr>\n",
       "      <th>91</th>\n",
       "      <td>NTM3</td>\n",
       "      <td>X1</td>\n",
       "      <td>A44</td>\n",
       "      <td>DIRECT</td>\n",
       "      <td>Small</td>\n",
       "      <td>Liquid</td>\n",
       "      <td>2021-06-21</td>\n",
       "      <td>89.57</td>\n",
       "    </tr>\n",
       "    <tr>\n",
       "      <th>92</th>\n",
       "      <td>NTM3</td>\n",
       "      <td>X1</td>\n",
       "      <td>A8</td>\n",
       "      <td>DIRECT</td>\n",
       "      <td>Large</td>\n",
       "      <td>Powder</td>\n",
       "      <td>2021-06-21</td>\n",
       "      <td>114.57</td>\n",
       "    </tr>\n",
       "    <tr>\n",
       "      <th>93</th>\n",
       "      <td>NTM3</td>\n",
       "      <td>X1</td>\n",
       "      <td>A8</td>\n",
       "      <td>DIRECT</td>\n",
       "      <td>Small</td>\n",
       "      <td>Powder</td>\n",
       "      <td>2021-06-21</td>\n",
       "      <td>111.26</td>\n",
       "    </tr>\n",
       "    <tr>\n",
       "      <th>94</th>\n",
       "      <td>NTM3</td>\n",
       "      <td>X2</td>\n",
       "      <td>A20</td>\n",
       "      <td>DIRECT</td>\n",
       "      <td>Large</td>\n",
       "      <td>Powder</td>\n",
       "      <td>2021-06-21</td>\n",
       "      <td>32.32</td>\n",
       "    </tr>\n",
       "    <tr>\n",
       "      <th>95</th>\n",
       "      <td>NTM3</td>\n",
       "      <td>X3</td>\n",
       "      <td>A22</td>\n",
       "      <td>RETAIL</td>\n",
       "      <td>Large</td>\n",
       "      <td>Powder</td>\n",
       "      <td>2021-06-21</td>\n",
       "      <td>40.73</td>\n",
       "    </tr>\n",
       "  </tbody>\n",
       "</table>\n",
       "<p>96 rows × 8 columns</p>\n",
       "</div>"
      ],
      "text/plain": [
       "   ProductType Manufacturer Area Code Sourcing Channel Product Size  \\\n",
       "0         NTM1           X1        A1           DIRECT        Small   \n",
       "1         NTM1           X1       A10           DIRECT        Large   \n",
       "2         NTM1           X1       A10             ECOM        Large   \n",
       "3         NTM1           X1       A11           DIRECT        Large   \n",
       "4         NTM1           X1        A2           DIRECT        Large   \n",
       "..         ...          ...       ...              ...          ...   \n",
       "91        NTM3           X1       A44           DIRECT        Small   \n",
       "92        NTM3           X1        A8           DIRECT        Large   \n",
       "93        NTM3           X1        A8           DIRECT        Small   \n",
       "94        NTM3           X2       A20           DIRECT        Large   \n",
       "95        NTM3           X3       A22           RETAIL        Large   \n",
       "\n",
       "   Product Type Month of Sourcing  Sourcing Cost  \n",
       "0        Powder        2021-06-21         103.68  \n",
       "1        Powder        2021-06-21         155.75  \n",
       "2        Powder        2021-06-21         143.02  \n",
       "3        Powder        2021-06-21         139.39  \n",
       "4        Powder        2021-06-21         169.42  \n",
       "..          ...               ...            ...  \n",
       "91       Liquid        2021-06-21          89.57  \n",
       "92       Powder        2021-06-21         114.57  \n",
       "93       Powder        2021-06-21         111.26  \n",
       "94       Powder        2021-06-21          32.32  \n",
       "95       Powder        2021-06-21          40.73  \n",
       "\n",
       "[96 rows x 8 columns]"
      ]
     },
     "execution_count": 83,
     "metadata": {},
     "output_type": "execute_result"
    }
   ],
   "source": [
    "test_data"
   ]
  },
  {
   "cell_type": "markdown",
   "metadata": {},
   "source": [
    "### Data pre-processing for testing dataset "
   ]
  },
  {
   "cell_type": "code",
   "execution_count": 84,
   "metadata": {},
   "outputs": [],
   "source": [
    "test_data[\"Day\"] = test_data['Month of Sourcing'].map(lambda x: x.day)\n",
    "test_data[\"Month\"] = test_data['Month of Sourcing'].map(lambda x: x.month)\n",
    "test_data[\"Year\"] = test_data['Month of Sourcing'].map(lambda x: x.year)\n",
    "test_data.drop(columns=['Month of Sourcing'],inplace=True)"
   ]
  },
  {
   "cell_type": "code",
   "execution_count": 85,
   "metadata": {},
   "outputs": [],
   "source": [
    "# label_encoder object\n",
    "test_AreaCode = []\n",
    "for i in range(test_data.shape[0]):\n",
    "    test_AreaCode.append(int(test_data['Area Code'][i][1:]))\n",
    "    \n",
    "test_data['AreaCode'] = test_AreaCode\n",
    "\n",
    "# One hot encoding for other categorical columns\n",
    "temp1_ = pd.get_dummies(test_data['ProductType'],drop_first=True)\n",
    "temp2_ = pd.get_dummies(test_data['Manufacturer'],drop_first=True)\n",
    "temp3_ = pd.get_dummies(test_data['Sourcing Channel'],drop_first=True)\n",
    "temp4_ = pd.get_dummies(test_data['Product Size'],drop_first=True)\n",
    "temp5_ = pd.get_dummies(test_data['Product Type'],drop_first=True)\n",
    "temp6_ = pd.get_dummies(test_data['Year'],prefix='Year',drop_first=True)\n",
    "\n",
    "# Removing Date column as it has no variance\n",
    "test_data = test_data.drop(columns=['Day'])"
   ]
  },
  {
   "cell_type": "code",
   "execution_count": 86,
   "metadata": {},
   "outputs": [],
   "source": [
    "# Drop column as it is now encoded\n",
    "test_data = test_data.drop(columns=['ProductType','Manufacturer','Area Code','Sourcing Channel','Product Size','Product Type','Year'])\n",
    "# Join the encoded df\n",
    "test_data = pd.concat([test_data,temp1_,temp2_,temp3_,temp4_,temp5_,temp6_],axis=1)"
   ]
  },
  {
   "cell_type": "code",
   "execution_count": 87,
   "metadata": {},
   "outputs": [
    {
     "data": {
      "text/html": [
       "<div>\n",
       "<style scoped>\n",
       "    .dataframe tbody tr th:only-of-type {\n",
       "        vertical-align: middle;\n",
       "    }\n",
       "\n",
       "    .dataframe tbody tr th {\n",
       "        vertical-align: top;\n",
       "    }\n",
       "\n",
       "    .dataframe thead th {\n",
       "        text-align: right;\n",
       "    }\n",
       "</style>\n",
       "<table border=\"1\" class=\"dataframe\">\n",
       "  <thead>\n",
       "    <tr style=\"text-align: right;\">\n",
       "      <th></th>\n",
       "      <th>Sourcing Cost</th>\n",
       "      <th>Month</th>\n",
       "      <th>AreaCode</th>\n",
       "      <th>NTM2</th>\n",
       "      <th>NTM3</th>\n",
       "      <th>X2</th>\n",
       "      <th>X3</th>\n",
       "      <th>ECOM</th>\n",
       "      <th>RETAIL</th>\n",
       "      <th>WHOLESALE</th>\n",
       "      <th>Large</th>\n",
       "      <th>Small</th>\n",
       "      <th>Powder</th>\n",
       "    </tr>\n",
       "  </thead>\n",
       "  <tbody>\n",
       "    <tr>\n",
       "      <th>0</th>\n",
       "      <td>103.68</td>\n",
       "      <td>6</td>\n",
       "      <td>1</td>\n",
       "      <td>0</td>\n",
       "      <td>0</td>\n",
       "      <td>0</td>\n",
       "      <td>0</td>\n",
       "      <td>0</td>\n",
       "      <td>0</td>\n",
       "      <td>0</td>\n",
       "      <td>0</td>\n",
       "      <td>1</td>\n",
       "      <td>1</td>\n",
       "    </tr>\n",
       "    <tr>\n",
       "      <th>1</th>\n",
       "      <td>155.75</td>\n",
       "      <td>6</td>\n",
       "      <td>10</td>\n",
       "      <td>0</td>\n",
       "      <td>0</td>\n",
       "      <td>0</td>\n",
       "      <td>0</td>\n",
       "      <td>0</td>\n",
       "      <td>0</td>\n",
       "      <td>0</td>\n",
       "      <td>1</td>\n",
       "      <td>0</td>\n",
       "      <td>1</td>\n",
       "    </tr>\n",
       "    <tr>\n",
       "      <th>2</th>\n",
       "      <td>143.02</td>\n",
       "      <td>6</td>\n",
       "      <td>10</td>\n",
       "      <td>0</td>\n",
       "      <td>0</td>\n",
       "      <td>0</td>\n",
       "      <td>0</td>\n",
       "      <td>1</td>\n",
       "      <td>0</td>\n",
       "      <td>0</td>\n",
       "      <td>1</td>\n",
       "      <td>0</td>\n",
       "      <td>1</td>\n",
       "    </tr>\n",
       "    <tr>\n",
       "      <th>3</th>\n",
       "      <td>139.39</td>\n",
       "      <td>6</td>\n",
       "      <td>11</td>\n",
       "      <td>0</td>\n",
       "      <td>0</td>\n",
       "      <td>0</td>\n",
       "      <td>0</td>\n",
       "      <td>0</td>\n",
       "      <td>0</td>\n",
       "      <td>0</td>\n",
       "      <td>1</td>\n",
       "      <td>0</td>\n",
       "      <td>1</td>\n",
       "    </tr>\n",
       "    <tr>\n",
       "      <th>4</th>\n",
       "      <td>169.42</td>\n",
       "      <td>6</td>\n",
       "      <td>2</td>\n",
       "      <td>0</td>\n",
       "      <td>0</td>\n",
       "      <td>0</td>\n",
       "      <td>0</td>\n",
       "      <td>0</td>\n",
       "      <td>0</td>\n",
       "      <td>0</td>\n",
       "      <td>1</td>\n",
       "      <td>0</td>\n",
       "      <td>1</td>\n",
       "    </tr>\n",
       "    <tr>\n",
       "      <th>...</th>\n",
       "      <td>...</td>\n",
       "      <td>...</td>\n",
       "      <td>...</td>\n",
       "      <td>...</td>\n",
       "      <td>...</td>\n",
       "      <td>...</td>\n",
       "      <td>...</td>\n",
       "      <td>...</td>\n",
       "      <td>...</td>\n",
       "      <td>...</td>\n",
       "      <td>...</td>\n",
       "      <td>...</td>\n",
       "      <td>...</td>\n",
       "    </tr>\n",
       "    <tr>\n",
       "      <th>91</th>\n",
       "      <td>89.57</td>\n",
       "      <td>6</td>\n",
       "      <td>44</td>\n",
       "      <td>0</td>\n",
       "      <td>1</td>\n",
       "      <td>0</td>\n",
       "      <td>0</td>\n",
       "      <td>0</td>\n",
       "      <td>0</td>\n",
       "      <td>0</td>\n",
       "      <td>0</td>\n",
       "      <td>1</td>\n",
       "      <td>0</td>\n",
       "    </tr>\n",
       "    <tr>\n",
       "      <th>92</th>\n",
       "      <td>114.57</td>\n",
       "      <td>6</td>\n",
       "      <td>8</td>\n",
       "      <td>0</td>\n",
       "      <td>1</td>\n",
       "      <td>0</td>\n",
       "      <td>0</td>\n",
       "      <td>0</td>\n",
       "      <td>0</td>\n",
       "      <td>0</td>\n",
       "      <td>1</td>\n",
       "      <td>0</td>\n",
       "      <td>1</td>\n",
       "    </tr>\n",
       "    <tr>\n",
       "      <th>93</th>\n",
       "      <td>111.26</td>\n",
       "      <td>6</td>\n",
       "      <td>8</td>\n",
       "      <td>0</td>\n",
       "      <td>1</td>\n",
       "      <td>0</td>\n",
       "      <td>0</td>\n",
       "      <td>0</td>\n",
       "      <td>0</td>\n",
       "      <td>0</td>\n",
       "      <td>0</td>\n",
       "      <td>1</td>\n",
       "      <td>1</td>\n",
       "    </tr>\n",
       "    <tr>\n",
       "      <th>94</th>\n",
       "      <td>32.32</td>\n",
       "      <td>6</td>\n",
       "      <td>20</td>\n",
       "      <td>0</td>\n",
       "      <td>1</td>\n",
       "      <td>1</td>\n",
       "      <td>0</td>\n",
       "      <td>0</td>\n",
       "      <td>0</td>\n",
       "      <td>0</td>\n",
       "      <td>1</td>\n",
       "      <td>0</td>\n",
       "      <td>1</td>\n",
       "    </tr>\n",
       "    <tr>\n",
       "      <th>95</th>\n",
       "      <td>40.73</td>\n",
       "      <td>6</td>\n",
       "      <td>22</td>\n",
       "      <td>0</td>\n",
       "      <td>1</td>\n",
       "      <td>0</td>\n",
       "      <td>1</td>\n",
       "      <td>0</td>\n",
       "      <td>1</td>\n",
       "      <td>0</td>\n",
       "      <td>1</td>\n",
       "      <td>0</td>\n",
       "      <td>1</td>\n",
       "    </tr>\n",
       "  </tbody>\n",
       "</table>\n",
       "<p>96 rows × 13 columns</p>\n",
       "</div>"
      ],
      "text/plain": [
       "    Sourcing Cost  Month  AreaCode  NTM2  NTM3  X2  X3  ECOM  RETAIL  \\\n",
       "0          103.68      6         1     0     0   0   0     0       0   \n",
       "1          155.75      6        10     0     0   0   0     0       0   \n",
       "2          143.02      6        10     0     0   0   0     1       0   \n",
       "3          139.39      6        11     0     0   0   0     0       0   \n",
       "4          169.42      6         2     0     0   0   0     0       0   \n",
       "..            ...    ...       ...   ...   ...  ..  ..   ...     ...   \n",
       "91          89.57      6        44     0     1   0   0     0       0   \n",
       "92         114.57      6         8     0     1   0   0     0       0   \n",
       "93         111.26      6         8     0     1   0   0     0       0   \n",
       "94          32.32      6        20     0     1   1   0     0       0   \n",
       "95          40.73      6        22     0     1   0   1     0       1   \n",
       "\n",
       "    WHOLESALE  Large  Small  Powder  \n",
       "0           0      0      1       1  \n",
       "1           0      1      0       1  \n",
       "2           0      1      0       1  \n",
       "3           0      1      0       1  \n",
       "4           0      1      0       1  \n",
       "..        ...    ...    ...     ...  \n",
       "91          0      0      1       0  \n",
       "92          0      1      0       1  \n",
       "93          0      0      1       1  \n",
       "94          0      1      0       1  \n",
       "95          0      1      0       1  \n",
       "\n",
       "[96 rows x 13 columns]"
      ]
     },
     "execution_count": 87,
     "metadata": {},
     "output_type": "execute_result"
    }
   ],
   "source": [
    "test_data"
   ]
  },
  {
   "cell_type": "code",
   "execution_count": 88,
   "metadata": {},
   "outputs": [
    {
     "name": "stdout",
     "output_type": "stream",
     "text": [
      "<class 'pandas.core.frame.DataFrame'>\n",
      "RangeIndex: 96 entries, 0 to 95\n",
      "Data columns (total 13 columns):\n",
      " #   Column         Non-Null Count  Dtype  \n",
      "---  ------         --------------  -----  \n",
      " 0   Sourcing Cost  96 non-null     float64\n",
      " 1   Month          96 non-null     int64  \n",
      " 2   AreaCode       96 non-null     int64  \n",
      " 3   NTM2           96 non-null     uint8  \n",
      " 4   NTM3           96 non-null     uint8  \n",
      " 5   X2             96 non-null     uint8  \n",
      " 6   X3             96 non-null     uint8  \n",
      " 7   ECOM           96 non-null     uint8  \n",
      " 8   RETAIL         96 non-null     uint8  \n",
      " 9   WHOLESALE      96 non-null     uint8  \n",
      " 10  Large          96 non-null     uint8  \n",
      " 11  Small          96 non-null     uint8  \n",
      " 12  Powder         96 non-null     uint8  \n",
      "dtypes: float64(1), int64(2), uint8(10)\n",
      "memory usage: 3.3 KB\n"
     ]
    }
   ],
   "source": [
    "test_data.info()"
   ]
  },
  {
   "cell_type": "code",
   "execution_count": 89,
   "metadata": {},
   "outputs": [],
   "source": [
    "test_data['Year_2021'] = np.ones(test_data.shape[0])\n",
    "test_X = test_data.drop('Sourcing Cost',axis=1)"
   ]
  },
  {
   "cell_type": "code",
   "execution_count": 90,
   "metadata": {},
   "outputs": [
    {
     "data": {
      "text/html": [
       "<div>\n",
       "<style scoped>\n",
       "    .dataframe tbody tr th:only-of-type {\n",
       "        vertical-align: middle;\n",
       "    }\n",
       "\n",
       "    .dataframe tbody tr th {\n",
       "        vertical-align: top;\n",
       "    }\n",
       "\n",
       "    .dataframe thead th {\n",
       "        text-align: right;\n",
       "    }\n",
       "</style>\n",
       "<table border=\"1\" class=\"dataframe\">\n",
       "  <thead>\n",
       "    <tr style=\"text-align: right;\">\n",
       "      <th></th>\n",
       "      <th>Month</th>\n",
       "      <th>AreaCode</th>\n",
       "      <th>NTM2</th>\n",
       "      <th>NTM3</th>\n",
       "      <th>X2</th>\n",
       "      <th>X3</th>\n",
       "      <th>ECOM</th>\n",
       "      <th>RETAIL</th>\n",
       "      <th>WHOLESALE</th>\n",
       "      <th>Large</th>\n",
       "      <th>Small</th>\n",
       "      <th>Powder</th>\n",
       "      <th>Year_2021</th>\n",
       "    </tr>\n",
       "  </thead>\n",
       "  <tbody>\n",
       "    <tr>\n",
       "      <th>0</th>\n",
       "      <td>6</td>\n",
       "      <td>1</td>\n",
       "      <td>0</td>\n",
       "      <td>0</td>\n",
       "      <td>0</td>\n",
       "      <td>0</td>\n",
       "      <td>0</td>\n",
       "      <td>0</td>\n",
       "      <td>0</td>\n",
       "      <td>0</td>\n",
       "      <td>1</td>\n",
       "      <td>1</td>\n",
       "      <td>1.0</td>\n",
       "    </tr>\n",
       "    <tr>\n",
       "      <th>1</th>\n",
       "      <td>6</td>\n",
       "      <td>10</td>\n",
       "      <td>0</td>\n",
       "      <td>0</td>\n",
       "      <td>0</td>\n",
       "      <td>0</td>\n",
       "      <td>0</td>\n",
       "      <td>0</td>\n",
       "      <td>0</td>\n",
       "      <td>1</td>\n",
       "      <td>0</td>\n",
       "      <td>1</td>\n",
       "      <td>1.0</td>\n",
       "    </tr>\n",
       "    <tr>\n",
       "      <th>2</th>\n",
       "      <td>6</td>\n",
       "      <td>10</td>\n",
       "      <td>0</td>\n",
       "      <td>0</td>\n",
       "      <td>0</td>\n",
       "      <td>0</td>\n",
       "      <td>1</td>\n",
       "      <td>0</td>\n",
       "      <td>0</td>\n",
       "      <td>1</td>\n",
       "      <td>0</td>\n",
       "      <td>1</td>\n",
       "      <td>1.0</td>\n",
       "    </tr>\n",
       "    <tr>\n",
       "      <th>3</th>\n",
       "      <td>6</td>\n",
       "      <td>11</td>\n",
       "      <td>0</td>\n",
       "      <td>0</td>\n",
       "      <td>0</td>\n",
       "      <td>0</td>\n",
       "      <td>0</td>\n",
       "      <td>0</td>\n",
       "      <td>0</td>\n",
       "      <td>1</td>\n",
       "      <td>0</td>\n",
       "      <td>1</td>\n",
       "      <td>1.0</td>\n",
       "    </tr>\n",
       "    <tr>\n",
       "      <th>4</th>\n",
       "      <td>6</td>\n",
       "      <td>2</td>\n",
       "      <td>0</td>\n",
       "      <td>0</td>\n",
       "      <td>0</td>\n",
       "      <td>0</td>\n",
       "      <td>0</td>\n",
       "      <td>0</td>\n",
       "      <td>0</td>\n",
       "      <td>1</td>\n",
       "      <td>0</td>\n",
       "      <td>1</td>\n",
       "      <td>1.0</td>\n",
       "    </tr>\n",
       "    <tr>\n",
       "      <th>...</th>\n",
       "      <td>...</td>\n",
       "      <td>...</td>\n",
       "      <td>...</td>\n",
       "      <td>...</td>\n",
       "      <td>...</td>\n",
       "      <td>...</td>\n",
       "      <td>...</td>\n",
       "      <td>...</td>\n",
       "      <td>...</td>\n",
       "      <td>...</td>\n",
       "      <td>...</td>\n",
       "      <td>...</td>\n",
       "      <td>...</td>\n",
       "    </tr>\n",
       "    <tr>\n",
       "      <th>91</th>\n",
       "      <td>6</td>\n",
       "      <td>44</td>\n",
       "      <td>0</td>\n",
       "      <td>1</td>\n",
       "      <td>0</td>\n",
       "      <td>0</td>\n",
       "      <td>0</td>\n",
       "      <td>0</td>\n",
       "      <td>0</td>\n",
       "      <td>0</td>\n",
       "      <td>1</td>\n",
       "      <td>0</td>\n",
       "      <td>1.0</td>\n",
       "    </tr>\n",
       "    <tr>\n",
       "      <th>92</th>\n",
       "      <td>6</td>\n",
       "      <td>8</td>\n",
       "      <td>0</td>\n",
       "      <td>1</td>\n",
       "      <td>0</td>\n",
       "      <td>0</td>\n",
       "      <td>0</td>\n",
       "      <td>0</td>\n",
       "      <td>0</td>\n",
       "      <td>1</td>\n",
       "      <td>0</td>\n",
       "      <td>1</td>\n",
       "      <td>1.0</td>\n",
       "    </tr>\n",
       "    <tr>\n",
       "      <th>93</th>\n",
       "      <td>6</td>\n",
       "      <td>8</td>\n",
       "      <td>0</td>\n",
       "      <td>1</td>\n",
       "      <td>0</td>\n",
       "      <td>0</td>\n",
       "      <td>0</td>\n",
       "      <td>0</td>\n",
       "      <td>0</td>\n",
       "      <td>0</td>\n",
       "      <td>1</td>\n",
       "      <td>1</td>\n",
       "      <td>1.0</td>\n",
       "    </tr>\n",
       "    <tr>\n",
       "      <th>94</th>\n",
       "      <td>6</td>\n",
       "      <td>20</td>\n",
       "      <td>0</td>\n",
       "      <td>1</td>\n",
       "      <td>1</td>\n",
       "      <td>0</td>\n",
       "      <td>0</td>\n",
       "      <td>0</td>\n",
       "      <td>0</td>\n",
       "      <td>1</td>\n",
       "      <td>0</td>\n",
       "      <td>1</td>\n",
       "      <td>1.0</td>\n",
       "    </tr>\n",
       "    <tr>\n",
       "      <th>95</th>\n",
       "      <td>6</td>\n",
       "      <td>22</td>\n",
       "      <td>0</td>\n",
       "      <td>1</td>\n",
       "      <td>0</td>\n",
       "      <td>1</td>\n",
       "      <td>0</td>\n",
       "      <td>1</td>\n",
       "      <td>0</td>\n",
       "      <td>1</td>\n",
       "      <td>0</td>\n",
       "      <td>1</td>\n",
       "      <td>1.0</td>\n",
       "    </tr>\n",
       "  </tbody>\n",
       "</table>\n",
       "<p>96 rows × 13 columns</p>\n",
       "</div>"
      ],
      "text/plain": [
       "    Month  AreaCode  NTM2  NTM3  X2  X3  ECOM  RETAIL  WHOLESALE  Large  \\\n",
       "0       6         1     0     0   0   0     0       0          0      0   \n",
       "1       6        10     0     0   0   0     0       0          0      1   \n",
       "2       6        10     0     0   0   0     1       0          0      1   \n",
       "3       6        11     0     0   0   0     0       0          0      1   \n",
       "4       6         2     0     0   0   0     0       0          0      1   \n",
       "..    ...       ...   ...   ...  ..  ..   ...     ...        ...    ...   \n",
       "91      6        44     0     1   0   0     0       0          0      0   \n",
       "92      6         8     0     1   0   0     0       0          0      1   \n",
       "93      6         8     0     1   0   0     0       0          0      0   \n",
       "94      6        20     0     1   1   0     0       0          0      1   \n",
       "95      6        22     0     1   0   1     0       1          0      1   \n",
       "\n",
       "    Small  Powder  Year_2021  \n",
       "0       1       1        1.0  \n",
       "1       0       1        1.0  \n",
       "2       0       1        1.0  \n",
       "3       0       1        1.0  \n",
       "4       0       1        1.0  \n",
       "..    ...     ...        ...  \n",
       "91      1       0        1.0  \n",
       "92      0       1        1.0  \n",
       "93      1       1        1.0  \n",
       "94      0       1        1.0  \n",
       "95      0       1        1.0  \n",
       "\n",
       "[96 rows x 13 columns]"
      ]
     },
     "execution_count": 90,
     "metadata": {},
     "output_type": "execute_result"
    }
   ],
   "source": [
    "test_X"
   ]
  },
  {
   "cell_type": "markdown",
   "metadata": {},
   "source": [
    "### Test data were predicted with the trained model"
   ]
  },
  {
   "cell_type": "code",
   "execution_count": 91,
   "metadata": {},
   "outputs": [],
   "source": [
    "#prediction using Linear Regression Model\n",
    "\n",
    "lr_test_y = lr.predict(test_X)\n",
    "\n",
    "#prediction using Polynomial Regression Model\n",
    "\n",
    "test_X_transformed = polyreg.fit_transform(test_X)\n",
    "pr_test_y = pr.predict(test_X_transformed)\n",
    "\n",
    "#prediction using XGBoost Regression Model\n",
    "\n",
    "xgb_test_y = xgb_r.predict(test_X)\n",
    "\n",
    "#prediction using Random Forest Regression Model\n",
    "\n",
    "rf_test_y = rf_regressor.predict(test_X)"
   ]
  },
  {
   "cell_type": "code",
   "execution_count": 92,
   "metadata": {},
   "outputs": [],
   "source": [
    "test_y = test_data['Sourcing Cost']"
   ]
  },
  {
   "cell_type": "code",
   "execution_count": 93,
   "metadata": {},
   "outputs": [
    {
     "name": "stdout",
     "output_type": "stream",
     "text": [
      "##################################################################################\n",
      "##################   Original Test Data Prediction Metrics   #####################\n",
      "##################################################################################\n",
      "\n",
      "\n",
      "*** Linear Regression Metrics ***\n",
      "MAE :  33.47862324859698\n",
      "RMSE :  46.83262813775938\n",
      "R2-Score :  0.19154849252293193\n",
      "\n",
      "\n",
      "*** Polynomial Regression Metrics ***\n",
      "MAE :  23.967722954029536\n",
      "RMSE :  40.88637009880879\n",
      "R2-Score :  0.3838108795415017\n",
      "\n",
      "\n",
      "*** XGBoost Regression Metrics ***\n",
      "MAE :  18.213098292350768\n",
      "RMSE :  32.353094937419186\n",
      "R2-Score :  0.6141765862323987\n",
      "\n",
      "\n",
      "*** Random Forest Regression Metrics ***\n",
      "MAE :  16.306044506024374\n",
      "RMSE :  32.39163370233419\n",
      "R2-Score :  0.6132568588378158\n"
     ]
    }
   ],
   "source": [
    "print(\"##################################################################################\")\n",
    "print(\"##################   Original Test Data Prediction Metrics   #####################\")\n",
    "print(\"##################################################################################\")\n",
    "\n",
    "print('\\n')\n",
    "\n",
    "print(\"*** Linear Regression Metrics ***\")\n",
    "print(\"MAE : \",mean_absolute_error(test_y,lr_test_y))\n",
    "print(\"RMSE : \", np.sqrt(mean_squared_error(test_y,lr_test_y)))\n",
    "print(\"R2-Score : \",r2_score(test_y,lr_test_y))\n",
    "      \n",
    "print('\\n')\n",
    "      \n",
    "print(\"*** Polynomial Regression Metrics ***\")\n",
    "print(\"MAE : \",mean_absolute_error(test_y,pr_test_y))\n",
    "print(\"RMSE : \", np.sqrt(mean_squared_error(test_y,pr_test_y)))\n",
    "print(\"R2-Score : \",r2_score(test_y,pr_test_y))\n",
    "      \n",
    "print('\\n')\n",
    "\n",
    "print(\"*** XGBoost Regression Metrics ***\")\n",
    "print(\"MAE : \",mean_absolute_error(test_y,xgb_test_y))\n",
    "print(\"RMSE : \", np.sqrt(mean_squared_error(test_y,xgb_test_y)))\n",
    "print(\"R2-Score : \",r2_score(test_y,xgb_test_y))\n",
    "      \n",
    "print('\\n')\n",
    "      \n",
    "print(\"*** Random Forest Regression Metrics ***\")\n",
    "print(\"MAE : \",mean_absolute_error(test_y,rf_test_y))\n",
    "print(\"RMSE : \", np.sqrt(mean_squared_error(test_y,rf_test_y)))\n",
    "print(\"R2-Score : \",r2_score(test_y,rf_test_y))\n",
    "      "
   ]
  },
  {
   "cell_type": "markdown",
   "metadata": {},
   "source": [
    "For training dataset the Random forest Regression peformed quite well but for Testing dataset both XGBoost and Random Forest given almost same metric results, but we selected XGBoost for better R2 score"
   ]
  },
  {
   "cell_type": "code",
   "execution_count": 94,
   "metadata": {},
   "outputs": [],
   "source": [
    "Test_Data_Actual_Prediction = pd.DataFrame()\n",
    "\n",
    "Test_Data_Actual_Prediction['Actual'] = test_y\n",
    "Test_Data_Actual_Prediction['Predicted'] = xgb_test_y "
   ]
  },
  {
   "cell_type": "code",
   "execution_count": 95,
   "metadata": {},
   "outputs": [
    {
     "data": {
      "text/html": [
       "<div>\n",
       "<style scoped>\n",
       "    .dataframe tbody tr th:only-of-type {\n",
       "        vertical-align: middle;\n",
       "    }\n",
       "\n",
       "    .dataframe tbody tr th {\n",
       "        vertical-align: top;\n",
       "    }\n",
       "\n",
       "    .dataframe thead th {\n",
       "        text-align: right;\n",
       "    }\n",
       "</style>\n",
       "<table border=\"1\" class=\"dataframe\">\n",
       "  <thead>\n",
       "    <tr style=\"text-align: right;\">\n",
       "      <th></th>\n",
       "      <th>Actual</th>\n",
       "      <th>Predicted</th>\n",
       "    </tr>\n",
       "  </thead>\n",
       "  <tbody>\n",
       "    <tr>\n",
       "      <th>0</th>\n",
       "      <td>103.68</td>\n",
       "      <td>108.008316</td>\n",
       "    </tr>\n",
       "    <tr>\n",
       "      <th>1</th>\n",
       "      <td>155.75</td>\n",
       "      <td>136.563873</td>\n",
       "    </tr>\n",
       "    <tr>\n",
       "      <th>2</th>\n",
       "      <td>143.02</td>\n",
       "      <td>136.386398</td>\n",
       "    </tr>\n",
       "    <tr>\n",
       "      <th>3</th>\n",
       "      <td>139.39</td>\n",
       "      <td>135.985367</td>\n",
       "    </tr>\n",
       "    <tr>\n",
       "      <th>4</th>\n",
       "      <td>169.42</td>\n",
       "      <td>156.246613</td>\n",
       "    </tr>\n",
       "    <tr>\n",
       "      <th>...</th>\n",
       "      <td>...</td>\n",
       "      <td>...</td>\n",
       "    </tr>\n",
       "    <tr>\n",
       "      <th>91</th>\n",
       "      <td>89.57</td>\n",
       "      <td>62.239365</td>\n",
       "    </tr>\n",
       "    <tr>\n",
       "      <th>92</th>\n",
       "      <td>114.57</td>\n",
       "      <td>124.088844</td>\n",
       "    </tr>\n",
       "    <tr>\n",
       "      <th>93</th>\n",
       "      <td>111.26</td>\n",
       "      <td>116.219292</td>\n",
       "    </tr>\n",
       "    <tr>\n",
       "      <th>94</th>\n",
       "      <td>32.32</td>\n",
       "      <td>64.566299</td>\n",
       "    </tr>\n",
       "    <tr>\n",
       "      <th>95</th>\n",
       "      <td>40.73</td>\n",
       "      <td>50.116402</td>\n",
       "    </tr>\n",
       "  </tbody>\n",
       "</table>\n",
       "<p>96 rows × 2 columns</p>\n",
       "</div>"
      ],
      "text/plain": [
       "    Actual   Predicted\n",
       "0   103.68  108.008316\n",
       "1   155.75  136.563873\n",
       "2   143.02  136.386398\n",
       "3   139.39  135.985367\n",
       "4   169.42  156.246613\n",
       "..     ...         ...\n",
       "91   89.57   62.239365\n",
       "92  114.57  124.088844\n",
       "93  111.26  116.219292\n",
       "94   32.32   64.566299\n",
       "95   40.73   50.116402\n",
       "\n",
       "[96 rows x 2 columns]"
      ]
     },
     "execution_count": 95,
     "metadata": {},
     "output_type": "execute_result"
    }
   ],
   "source": [
    "Test_Data_Actual_Prediction"
   ]
  },
  {
   "cell_type": "code",
   "execution_count": null,
   "metadata": {},
   "outputs": [],
   "source": []
  }
 ],
 "metadata": {
  "kernelspec": {
   "display_name": "Python 3",
   "language": "python",
   "name": "python3"
  },
  "language_info": {
   "codemirror_mode": {
    "name": "ipython",
    "version": 3
   },
   "file_extension": ".py",
   "mimetype": "text/x-python",
   "name": "python",
   "nbconvert_exporter": "python",
   "pygments_lexer": "ipython3",
   "version": "3.8.5"
  }
 },
 "nbformat": 4,
 "nbformat_minor": 4
}
